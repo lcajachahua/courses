{
 "cells": [
  {
   "cell_type": "code",
   "execution_count": null,
   "id": "14c855ed",
   "metadata": {},
   "outputs": [],
   "source": [
    "%var SystemName=Vantage"
   ]
  },
  {
   "cell_type": "markdown",
   "id": "b15ab8e5",
   "metadata": {},
   "source": [
    "Password is **TRNG_TDU_TD01** Enter in Password dialog box then hit enter/return key to connect"
   ]
  },
  {
   "cell_type": "code",
   "execution_count": null,
   "id": "5ed29b5e",
   "metadata": {
    "tags": []
   },
   "outputs": [],
   "source": [
    "%connect ${SystemName}"
   ]
  },
  {
   "cell_type": "markdown",
   "id": "0ab10a53",
   "metadata": {},
   "source": [
    "---------------------------------------------------------------------\n",
    "-- Teradata Vantage Analytics Workshop Foundations I  --\n",
    "-- Module 02 - Sessionize             --\n",
    "\n"
   ]
  },
  {
   "cell_type": "code",
   "execution_count": null,
   "id": "f167f350",
   "metadata": {},
   "outputs": [],
   "source": [
    "-------------------------------------\n",
    "-- Lab 01a: View the Data --\n",
    "------------------------------------\n",
    "SELECT * FROM TRNG_TDU_TD01.sessionme;"
   ]
  },
  {
   "cell_type": "code",
   "execution_count": null,
   "id": "ad8fbbab",
   "metadata": {
    "tags": []
   },
   "outputs": [],
   "source": [
    "-------------------------------------------------\n",
    "-- Lab 01b: Sessionize using SQLE --\n",
    "------------------------------------------------\n",
    "SELECT * FROM Sessionize \n",
    "(ON TRNG_TDU_TD01.sessionme \n",
    " PARTITION BY userid \n",
    " ORDER BY clicktime \n",
    " USING\n",
    " TimeColumn ('clicktime')\n",
    " TimeOut (60)\n",
    " ClickLag (0.2) \n",
    " EmitNull ('false')\n",
    ") ORDER BY userid, clicktime;"
   ]
  },
  {
   "cell_type": "code",
   "execution_count": null,
   "id": "d598db51",
   "metadata": {},
   "outputs": [],
   "source": [
    "-------------------------------------\n",
    "-- Lab 02a: View the Data --\n",
    "------------------------------------\n",
    "SELECT * FROM TRNG_TDU_TD01.bank_web\n",
    "WHERE customer_id IN (620,8263, 30324)\n",
    "ORDER BY customer_id ASC, datestamp ASC;\n",
    " "
   ]
  },
  {
   "cell_type": "code",
   "execution_count": null,
   "id": "220b3c05",
   "metadata": {},
   "outputs": [],
   "source": [
    "---------------------------------------------------------------\n",
    "-- Lab 02b: 2 Required arguments and Output --\n",
    "---------------------------------------------------------------\n",
    "SELECT * FROM Sessionize \n",
    "(ON TRNG_TDU_TD01.bank_web \n",
    " PARTITION BY customer_id \n",
    " ORDER BY datestamp \n",
    " USING\n",
    " TimeColumn ('datestamp')\n",
    " TimeOut (600)\n",
    ") ORDER BY customer_id,datestamp;"
   ]
  },
  {
   "cell_type": "code",
   "execution_count": null,
   "id": "44bf226c",
   "metadata": {},
   "outputs": [],
   "source": [
    "------------------------------------------------------------------\n",
    "-- Lab 03a: Specifying a query in the ON Clause --\n",
    "------------------------------------------------------------------\n",
    "SELECT * FROM Sessionize \n",
    "(ON (SELECT * FROM TRNG_TDU_TD01.bank_web \n",
    "     WHERE customer_id \n",
    "     IN (8263, 30324, 620)) \n",
    " PARTITION BY customer_id \n",
    " ORDER BY datestamp \n",
    " USING\n",
    " TimeColumn ('datestamp')\n",
    " TimeOut (120)\n",
    ") ORDER BY customer_id, datestamp;"
   ]
  },
  {
   "cell_type": "code",
   "execution_count": null,
   "id": "2dc14367",
   "metadata": {
    "tags": []
   },
   "outputs": [],
   "source": [
    "-----------------------------------------\n",
    "-- Lab 04a: Detecting Robots --\n",
    "-----------------------------------------\n",
    "SELECT * FROM Sessionize\n",
    "(ON (SELECT * FROM TRNG_TDU_TD01.bank_web \n",
    "     WHERE customer_id in (7172)) \n",
    " PARTITION BY customer_id \n",
    " ORDER BY datestamp \n",
    " USING\n",
    " TimeColumn ('datestamp')\n",
    " TimeOut (60)\n",
    " ClickLag (0.1) \n",
    ") as dt ORDER BY customer_id, datestamp;"
   ]
  },
  {
   "cell_type": "code",
   "execution_count": null,
   "id": "36ef1265",
   "metadata": {},
   "outputs": [],
   "source": [
    "-----------------------------------------------------------------------------------------\n",
    "-- Lab 05: Landing Sessionize Results and Summarizing Findings -- \n",
    "-----------------------------------------------------------------------------------------\n",
    "-- View the Data (prior to Sessionizing)\n",
    "SELECT * FROM TRNG_TDU_TD01.chips_clean;"
   ]
  },
  {
   "cell_type": "code",
   "execution_count": null,
   "id": "3c15dd23",
   "metadata": {
    "tags": []
   },
   "outputs": [],
   "source": [
    "----------------------------------\n",
    "-- Lab 5a: Create Table --\n",
    "---------------------------------\n",
    "DROP TABLE chips_sessionized;"
   ]
  },
  {
   "cell_type": "code",
   "execution_count": null,
   "id": "804caff6",
   "metadata": {
    "tags": []
   },
   "outputs": [],
   "source": [
    "CREATE MULTISET TABLE chips_sessionized as \n",
    "(SELECT * FROM Sessionize \n",
    "(ON (SELECT remote_host, request_time, requested_page \n",
    "     FROM TRNG_TDU_TD01.chips_clean) \n",
    "PARTITION BY remote_host\n",
    "ORDER BY request_time asc\n",
    "USING\n",
    "TimeColumn ('request_time')\n",
    "TimeOut (3600)\n",
    ")\n",
    ") WITH DATA;"
   ]
  },
  {
   "cell_type": "code",
   "execution_count": null,
   "id": "51cfda7d",
   "metadata": {},
   "outputs": [],
   "source": [
    "--------------------------------------------------\n",
    "-- Lab 5b: View the Sessionize Data --\n",
    "--------------------------------------------------\n",
    "SELECT * FROM chips_sessionized SAMPLE 10;"
   ]
  },
  {
   "cell_type": "code",
   "execution_count": null,
   "id": "e2bac563",
   "metadata": {
    "tags": []
   },
   "outputs": [],
   "source": [
    "--------------------------------------------------\n",
    "-- Lab 5c: View Most Popular Pages --\n",
    "--------------------------------------------------\n",
    "SELECT requested_page, \n",
    "       COUNT (DISTINCT remote_host || '_ ' || sessionid) as distinct_sessions\n",
    "FROM chips_sessionized\n",
    "GROUP BY requested_page\n",
    "HAVING distinct_sessions >= 700\n",
    "ORDER BY distinct_sessions DESC;"
   ]
  },
  {
   "cell_type": "code",
   "execution_count": null,
   "id": "91be0088",
   "metadata": {},
   "outputs": [],
   "source": [
    "-- Lab 5d: Create a summary table using sessionized data to answer various questions \n",
    "--  * How many pages visited per session?\n",
    "--  * How many distinct pages visited per session?\n",
    "--  * How long in duration is each session?\n",
    "--  * What % of sessions contain an actual order?\n",
    "\n",
    "DROP TABLE x_summary;"
   ]
  },
  {
   "cell_type": "code",
   "execution_count": null,
   "id": "753a6b57",
   "metadata": {},
   "outputs": [],
   "source": [
    "CREATE MULTISET TABLE x_summary as\n",
    "(SELECT remote_host, sessionid,\n",
    " cast (0 as integer) as checkouts,\n",
    " cast (0 as integer) as payments,\n",
    " count (requested_page) as pages,\n",
    " count (distinct requested_page) as distinct_pages,\n",
    " min (request_time) as min_request_time,\n",
    " max (request_time) as max_request_time,\n",
    " max_request_time - min_request_time DAY(4) TO SECOND as session_duration\n",
    " FROM chips_sessionized\n",
    " WHERE remote_host not in ('98.239.41.45','199.253.184.250',\n",
    "   '24.182.98.90','208.103.14.206','24.62.170.79','72.198.7.76',\n",
    "   '104.169.48.130','174.28.182.211','38.124.19.66','66.87.99.152',\n",
    "   '107.77.68.127','108.231.245.71','50.205.80.194','166.172.59.102',\n",
    "   '97.87.26.18','68.122.5.1','50.156.225.101','24.123.193.230',\n",
    "   '68.227.86.106','180.94.82.42','108.237.161.125','104.11.128.58',\n",
    "   '107.202.120.14','71.80.75.49','73.200.201.147','23.28.62.87',\n",
    "   '107.203.33.144','50.176.94.179','67.214.86.18')\n",
    " GROUP BY remote_host, sessionid,checkouts,payments\n",
    ") WITH DATA ;"
   ]
  },
  {
   "cell_type": "code",
   "execution_count": null,
   "id": "0d1fcd15",
   "metadata": {},
   "outputs": [],
   "source": [
    "DROP TABLE checkouts;"
   ]
  },
  {
   "cell_type": "code",
   "execution_count": null,
   "id": "5ac0d971",
   "metadata": {},
   "outputs": [],
   "source": [
    "CREATE MULTISET TABLE checkouts as \n",
    "(SELECT remote_host, sessionid,count (requested_page) as checkouts\n",
    " FROM chips_sessionized\n",
    " WHERE requested_page = '/checkout.php'\n",
    " GROUP BY remote_host, sessionid\n",
    ") WITH DATA;\n",
    "\n"
   ]
  },
  {
   "cell_type": "code",
   "execution_count": null,
   "id": "e324f7b5",
   "metadata": {},
   "outputs": [],
   "source": [
    "SELECT * FROM checkouts;"
   ]
  },
  {
   "cell_type": "code",
   "execution_count": null,
   "id": "0b7fb545",
   "metadata": {},
   "outputs": [],
   "source": [
    "UPDATE x_summary set checkouts = checkouts.checkouts\n",
    "WHERE x_summary.remote_host = checkouts.remote_host\n",
    "AND x_summary.sessionid = checkouts.sessionid;"
   ]
  },
  {
   "cell_type": "code",
   "execution_count": null,
   "id": "721bbf09",
   "metadata": {},
   "outputs": [],
   "source": [
    "DROP TABLE payments;"
   ]
  },
  {
   "cell_type": "code",
   "execution_count": null,
   "id": "ce377a12",
   "metadata": {},
   "outputs": [],
   "source": [
    "CREATE MULTISET TABLE  payments as \n",
    "(SELECT remote_host, sessionid, count(requested_page) as payments\n",
    " FROM chips_sessionized\n",
    " WHERE requested_page = '/payment.php'\n",
    " GROUP BY remote_host, sessionid\n",
    ") WITH DATA;"
   ]
  },
  {
   "cell_type": "code",
   "execution_count": null,
   "id": "ed766515",
   "metadata": {},
   "outputs": [],
   "source": [
    "SELECT * FROM payments;"
   ]
  },
  {
   "cell_type": "code",
   "execution_count": null,
   "id": "3adf8f7d",
   "metadata": {},
   "outputs": [],
   "source": [
    "UPDATE x_summary set payments = payments.payments\n",
    "WHERE x_summary.remote_host = payments.remote_host\n",
    "AND x_summary.sessionid = payments.sessionid;"
   ]
  },
  {
   "cell_type": "code",
   "execution_count": null,
   "id": "045f0bc3",
   "metadata": {},
   "outputs": [],
   "source": [
    "-- View Summary Table\n",
    "SELECT * FROM x_summary SAMPLE 10;"
   ]
  },
  {
   "cell_type": "code",
   "execution_count": null,
   "id": "b1c6cd5e",
   "metadata": {},
   "outputs": [],
   "source": [
    "-------------------------------------------------------------\n",
    "-- Lab 05e: Retrive General Session Metrics --\n",
    "------------------------------------------------------------\n",
    "SELECT count (distinct remote_host) as remote_hosts, \n",
    "       count (distinct remote_host || '_' || sessionid) as sessions,\n",
    "       sessions*1.00 / remote_hosts as avg_sessions_per_host,\n",
    "       cast (avg (pages) as decimal (4,2)) as avg_pages, \n",
    "       cast (avg (distinct_pages) as decimal (4,2)) as avg_distinct_pages, \n",
    "       avg (session_duration) as avg_session_duration\n",
    "FROM x_summary;"
   ]
  },
  {
   "cell_type": "code",
   "execution_count": null,
   "id": "392d50c7",
   "metadata": {
    "tags": []
   },
   "outputs": [],
   "source": [
    "----------------------------------------------------------------------------------------\n",
    "-- Lab 05f: Scrutinize % of sessions with Checkout and Payment --\n",
    "--          Are there Abandoned Carts?                                             --\n",
    "---------------------------------------------------------------------------------------\n",
    "SELECT case when payments > 0 then 'y' else 'n' end as sessions_with_payment,\n",
    "       case when checkouts > 0 then 'y' else 'n' end as sessions_with_checkout,\n",
    "       count (*) as number_of_sessions\n",
    "FROM x_summary\n",
    "GROUP BY sessions_with_payment,sessions_with_checkout\n",
    "ORDER BY sessions_with_payment,sessions_with_checkout;"
   ]
  },
  {
   "cell_type": "code",
   "execution_count": null,
   "id": "178f2532",
   "metadata": {},
   "outputs": [],
   "source": [
    "--------------------------------------------------------------------------------------------\n",
    "-- Lab 05g: General Session Metrics by Checkout/Purchase Groups --\n",
    "--------------------------------------------------------------------------------------------\n",
    "SELECT \n",
    "  case when payments > 0 then 'y' else 'n' end as sessions_with_payment,\n",
    "  case when checkouts > 0 then 'y' else 'n' end as sessions_with_checkout,\n",
    "  count (distinct remote_host) as remote_hosts, \n",
    "  count (distinct remote_host || '_' || sessionid) as sessions,\n",
    "  sessions*1.00 / remote_hosts as avg_sessions_per_host,\n",
    "  cast (avg (pages) as decimal (4,2)) as avg_pages, \n",
    "  cast (avg (distinct_pages) as decimal (4,2)) as avg_distinct_pages, \n",
    "  avg (session_duration) as avg_session_duration\n",
    "FROM x_summary\n",
    "GROUP BY sessions_with_payment, sessions_with_checkout\n",
    "ORDER BY sessions_with_payment, sessions_with_checkout;"
   ]
  },
  {
   "cell_type": "code",
   "execution_count": null,
   "id": "1c8aab48",
   "metadata": {},
   "outputs": [],
   "source": [
    "------------------------------------------------------------------\n",
    "-- Lab 05h: Sessionize 'Fix the Syntax' ERRORs  --\n",
    "--   Answer key appears further below                 --\n",
    "------------------------------------------------------------------\n",
    "-- 01) Fix the error(s): Erroneous code 01:\n",
    "SELECT * FROM Sessionize \n",
    "(ON TRNG_TDU_TD01.sessionme \n",
    " PARTITION BY userid \n",
    " ORDER BY clicktime \n",
    " USING\n",
    " TimeColumns ('clicktime')\n",
    " TimeOut (60)\n",
    " ClickLag (0.2) \n",
    " EmitNull ('false')\n",
    ") ORDER BY userid, clicktime;"
   ]
  },
  {
   "cell_type": "code",
   "execution_count": null,
   "id": "7e5e3d9a",
   "metadata": {},
   "outputs": [],
   "source": [
    "-- 02) Fix the error(s): Erroneous code 02: \n",
    "SELECT * FROM Sessionize \n",
    "(ON TRNG_TDU_TD01.bank_web \n",
    " PARTITION BY customer_id \n",
    " ORDER BY datestamp \n",
    " USING\n",
    " TimeColumn ('datestamp')\n",
    " TimeOut ('600')\n",
    ") ORDER BY customer_id, datestamp;"
   ]
  },
  {
   "cell_type": "markdown",
   "id": "b9994ab4",
   "metadata": {},
   "source": [
    "#### Disconnect from Vantage"
   ]
  },
  {
   "cell_type": "code",
   "execution_count": null,
   "id": "6334c608",
   "metadata": {
    "tags": []
   },
   "outputs": [],
   "source": [
    "%disconnect ${SystemName}"
   ]
  },
  {
   "cell_type": "markdown",
   "id": "d8263fc1",
   "metadata": {},
   "source": [
    "Copyright 2021 Teradata. All rights reserved."
   ]
  }
 ],
 "metadata": {
  "kernelspec": {
   "display_name": "Teradata SQL",
   "language": "Teradata SQL",
   "name": "teradatasql"
  },
  "language_info": {
   "codemirror_mode": "Teradata SQL",
   "file_extension": ".tdrs",
   "mimetype": "application/vnd.teradata.resultset",
   "name": "Teradata SQL",
   "nbconvert_exporter": "",
   "pygments_lexer": "",
   "version": "16.20"
  }
 },
 "nbformat": 4,
 "nbformat_minor": 5
}
