{
 "cells": [
  {
   "cell_type": "code",
   "execution_count": null,
   "id": "96c3d2e7",
   "metadata": {},
   "outputs": [],
   "source": [
    "%var SystemName=Vantage"
   ]
  },
  {
   "cell_type": "markdown",
   "id": "ce2b0e62",
   "metadata": {},
   "source": [
    "Password is **TRNG_TDU_TD01** Enter in Password dialog box then hit enter/return key to connect"
   ]
  },
  {
   "cell_type": "code",
   "execution_count": null,
   "id": "bab6e536",
   "metadata": {
    "tags": []
   },
   "outputs": [],
   "source": [
    "%connect ${SystemName}"
   ]
  },
  {
   "cell_type": "markdown",
   "id": "e31024af",
   "metadata": {},
   "source": [
    "---------------------------------------------------------------------\n",
    "-- Teradata Vantage Analytics Workshop   --\n",
    "-- Module 02 - Attribution             --\n",
    "\n"
   ]
  },
  {
   "cell_type": "code",
   "execution_count": null,
   "id": "23bdd12b",
   "metadata": {},
   "outputs": [],
   "source": [
    "-------------------------------------------\n",
    "--Lab 06a: WindowSize(Rows) --\n",
    "------------------------------------------\n",
    "-- Create Conversion Table and Populate\n",
    "DROP TABLE conversion_event_table;"
   ]
  },
  {
   "cell_type": "code",
   "execution_count": null,
   "id": "a857b36c",
   "metadata": {},
   "outputs": [],
   "source": [
    "DROP TABLE model_table;"
   ]
  },
  {
   "cell_type": "code",
   "execution_count": null,
   "id": "f9941e36",
   "metadata": {},
   "outputs": [],
   "source": [
    "CREATE MULTISET TABLE conversion_event_table (conversion_events varchar (255));"
   ]
  },
  {
   "cell_type": "code",
   "execution_count": null,
   "id": "f1d63f6d",
   "metadata": {},
   "outputs": [],
   "source": [
    "CREATE MULTISET TABLE model_table (id integer, model varchar (255));"
   ]
  },
  {
   "cell_type": "code",
   "execution_count": null,
   "id": "d727fc59",
   "metadata": {},
   "outputs": [],
   "source": [
    "INSERT into conversion_event_table (conversion_events) values ('Buy');\n",
    "\n",
    "INSERT into model_table (id, model) values (0, 'SIMPLE');\n",
    "INSERT into model_table (id, model) values (1, 'UNIFORM:NA');"
   ]
  },
  {
   "cell_type": "code",
   "execution_count": null,
   "id": "2a784c34",
   "metadata": {},
   "outputs": [],
   "source": [
    "-- View all 3 tables\n",
    "SELECT * FROM TRNG_TDU_TD01.attrib7;\n",
    "SELECT * FROM conversion_event_table;\n",
    "SELECT * FROM model_table ORDER BY id;"
   ]
  },
  {
   "cell_type": "code",
   "execution_count": null,
   "id": "6a7e7825",
   "metadata": {},
   "outputs": [],
   "source": [
    "-- Score 8 rows Uniformly prior to Buy\n",
    "SELECT * FROM Attribution \n",
    "(ON TRNG_TDU_TD01.attrib7\n",
    " PARTITION BY id \n",
    " ORDER BY ts\n",
    " ON conversion_event_table AS conversion DIMENSION\n",
    " ON model_table AS model1 DIMENSION\n",
    " USING\n",
    " EventColumn ('event')\n",
    " TimestampColumn ('ts')\n",
    " WindowSize ('ROWS:8')\n",
    ") AS dt ORDER BY id, ts;"
   ]
  },
  {
   "cell_type": "code",
   "execution_count": null,
   "id": "4b7e6347",
   "metadata": {},
   "outputs": [],
   "source": [
    "-- Lab 06b: WindowSize(Seconds) --\n",
    "------------------------------------------------\n",
    "-- Create Conversion Table and Populate\n",
    "DROP TABLE conversion_event_table;"
   ]
  },
  {
   "cell_type": "code",
   "execution_count": null,
   "id": "69b5b37e",
   "metadata": {},
   "outputs": [],
   "source": [
    "DROP TABLE model_table;"
   ]
  },
  {
   "cell_type": "code",
   "execution_count": null,
   "id": "86b6b5cc",
   "metadata": {},
   "outputs": [],
   "source": [
    "CREATE MULTISET TABLE conversion_event_table (conversion_events varchar (255));"
   ]
  },
  {
   "cell_type": "code",
   "execution_count": null,
   "id": "40430e3c",
   "metadata": {},
   "outputs": [],
   "source": [
    "CREATE MULTISET TABLE model_table (id integer, model varchar (255));"
   ]
  },
  {
   "cell_type": "code",
   "execution_count": null,
   "id": "88ecb722",
   "metadata": {},
   "outputs": [],
   "source": [
    "INSERT into conversion_event_table (conversion_events) values ('Buy');\n",
    "\n",
    "INSERT into model_table (id, model) values (0, 'SIMPLE');\n",
    "INSERT into model_table (id, model) values (1, 'UNIFORM:NA');"
   ]
  },
  {
   "cell_type": "code",
   "execution_count": null,
   "id": "3fff8232",
   "metadata": {
    "tags": []
   },
   "outputs": [],
   "source": [
    "-- View all 3 tables\n",
    "SELECT * FROM TRNG_TDU_TD01.attrib7;\n",
    "SELECT * FROM conversion_event_table;\n",
    "SELECT * FROM model_table ORDER BY id;"
   ]
  },
  {
   "cell_type": "code",
   "execution_count": null,
   "id": "2b9b70c4",
   "metadata": {},
   "outputs": [],
   "source": [
    "-- Score rows 17 seconds Uniformly prior to Conversion = Buy\n",
    "SELECT * FROM Attribution \n",
    "(ON TRNG_TDU_TD01.attrib7\n",
    " PARTITION BY id \n",
    " ORDER BY ts\n",
    " ON conversion_event_table AS conversion DIMENSION\n",
    " ON model_table AS model1 DIMENSION\n",
    " USING\n",
    " EventColumn ('event')\n",
    " TimestampColumn ('ts')\n",
    " WindowSize ('SECONDS:17')\n",
    ") AS dt ORDER BY id, ts;\n"
   ]
  },
  {
   "cell_type": "markdown",
   "id": "672e4ab5",
   "metadata": {},
   "source": [
    "."
   ]
  },
  {
   "cell_type": "code",
   "execution_count": null,
   "id": "c616703a",
   "metadata": {
    "tags": []
   },
   "outputs": [],
   "source": [
    "---------------------------------------------------------\n",
    "-- Lab 06c: WindowSize(Rows&Seconds) --\n",
    "---------------------------------------------------------\n",
    "-- Create Conversion Table and Populate\n",
    "DROP TABLE conversion_event_table;"
   ]
  },
  {
   "cell_type": "code",
   "execution_count": null,
   "id": "fd7a2a32",
   "metadata": {},
   "outputs": [],
   "source": [
    "DROP TABLE model_table;"
   ]
  },
  {
   "cell_type": "code",
   "execution_count": null,
   "id": "3763ab8f",
   "metadata": {},
   "outputs": [],
   "source": [
    "CREATE MULTISET TABLE conversion_event_table (conversion_events varchar (255));"
   ]
  },
  {
   "cell_type": "code",
   "execution_count": null,
   "id": "bbed095b",
   "metadata": {},
   "outputs": [],
   "source": [
    "CREATE MULTISET TABLE model_table (id integer, model varchar (255));"
   ]
  },
  {
   "cell_type": "code",
   "execution_count": null,
   "id": "c180d6d5",
   "metadata": {},
   "outputs": [],
   "source": [
    "INSERT into conversion_event_table (conversion_events) values ('buyonline');\n",
    "INSERT into conversion_event_table (conversion_events) values ('buyinstore');\n",
    "\n",
    "INSERT into model_table (id, model) values (0, 'SIMPLE');\n",
    "INSERT into model_table (id, model) values (1, 'UNIFORM:NA');"
   ]
  },
  {
   "cell_type": "code",
   "execution_count": null,
   "id": "a681464a",
   "metadata": {},
   "outputs": [],
   "source": [
    "-- View all 3 tables\n",
    "SELECT * FROM TRNG_TDU_TD01.borre_xx;\n",
    "SELECT * FROM conversion_event_table;\n",
    "SELECT * FROM model_table ORDER BY id;"
   ]
  },
  {
   "cell_type": "code",
   "execution_count": null,
   "id": "d63d0675",
   "metadata": {},
   "outputs": [],
   "source": [
    "-- Score rows on fewest rows between Rows and Seconds\n",
    "SELECT * FROM Attribution \n",
    "(ON TRNG_TDU_TD01.borre_xx\n",
    " PARTITION BY user_id \n",
    " ORDER BY ts\n",
    " ON conversion_event_table AS conversion DIMENSION\n",
    " ON model_table AS model1 DIMENSION\n",
    " USING\n",
    " EventColumn ('event')\n",
    " TimestampColumn ('ts')\n",
    " WindowSize ('ROWS:4&SECONDS:5')\n",
    ") AS dt ORDER BY user_id, ts;"
   ]
  },
  {
   "cell_type": "code",
   "execution_count": null,
   "id": "465d62c1",
   "metadata": {
    "tags": []
   },
   "outputs": [],
   "source": [
    "----------------------------------------------\n",
    "-- Lab 08: Model Type = SIMPLE --\n",
    "----------------------------------------------\n",
    "-- Create Conversion Table and Populate\n",
    "DROP TABLE conversion_event_table;"
   ]
  },
  {
   "cell_type": "code",
   "execution_count": null,
   "id": "829eec58",
   "metadata": {},
   "outputs": [],
   "source": [
    "DROP TABLE model_table;"
   ]
  },
  {
   "cell_type": "code",
   "execution_count": null,
   "id": "4dca6dc7",
   "metadata": {},
   "outputs": [],
   "source": [
    "CREATE MULTISET TABLE conversion_event_table (conversion_events varchar (255));"
   ]
  },
  {
   "cell_type": "code",
   "execution_count": null,
   "id": "1681fef0",
   "metadata": {},
   "outputs": [],
   "source": [
    "CREATE MULTISET TABLE model_table (id integer, model varchar (255));"
   ]
  },
  {
   "cell_type": "code",
   "execution_count": null,
   "id": "a2257d32",
   "metadata": {},
   "outputs": [],
   "source": [
    "INSERT into conversion_event_table (conversion_events) values ('Buy');\n",
    "\n",
    "INSERT into model_table (id, model) values (0, 'SIMPLE');\n",
    "INSERT into model_table (id, model) values (1, 'UNIFORM:NA');"
   ]
  },
  {
   "cell_type": "code",
   "execution_count": null,
   "id": "4d3713c3",
   "metadata": {},
   "outputs": [],
   "source": [
    "-- View all 3 tables\n",
    "SELECT * FROM TRNG_TDU_TD01.attrib9;\n",
    "SELECT * FROM conversion_event_table;\n",
    "SELECT * FROM model_table ORDER BY id;"
   ]
  },
  {
   "cell_type": "code",
   "execution_count": null,
   "id": "a8324cd3",
   "metadata": {
    "tags": []
   },
   "outputs": [],
   "source": [
    "-- Score 4 rows Uniformly prior to Conversion = Purchase\n",
    "SELECT * FROM Attribution \n",
    "(ON TRNG_TDU_TD01.attrib9\n",
    " PARTITION BY id \n",
    " ORDER BY ts\n",
    " ON conversion_event_table AS conversion DIMENSION\n",
    " ON model_table AS model1 DIMENSION\n",
    " USING\n",
    " EventColumn ('event')\n",
    " TimestampColumn ('ts')\n",
    " WindowSize ('ROWS:4')\n",
    ") AS dt ORDER BY id, ts;"
   ]
  },
  {
   "cell_type": "code",
   "execution_count": null,
   "id": "bfa42415",
   "metadata": {},
   "outputs": [],
   "source": [
    "------------------------------------------------------------\n",
    "-- Lab 09: Model Type = EVENT_REGULAR --\n",
    "------------------------------------------------------------\n",
    "-- Create Conversion Table and Populate\n",
    "DROP TABLE conversion_event_table;"
   ]
  },
  {
   "cell_type": "code",
   "execution_count": null,
   "id": "5b4b1230",
   "metadata": {},
   "outputs": [],
   "source": [
    "DROP TABLE model_table;"
   ]
  },
  {
   "cell_type": "code",
   "execution_count": null,
   "id": "ab52ce23",
   "metadata": {},
   "outputs": [],
   "source": [
    "CREATE MULTISET TABLE conversion_event_table (conversion_events varchar (255));"
   ]
  },
  {
   "cell_type": "code",
   "execution_count": null,
   "id": "4609d22d",
   "metadata": {},
   "outputs": [],
   "source": [
    "CREATE MULTISET TABLE model_table (id integer, model varchar (255));"
   ]
  },
  {
   "cell_type": "code",
   "execution_count": null,
   "id": "131e2470",
   "metadata": {},
   "outputs": [],
   "source": [
    "INSERT into conversion_event_table (conversion_events) values ('Buy');\n",
    "\n",
    "INSERT into model_table (id, model) values (0, 'EVENT_REGULAR');\n",
    "INSERT into model_table (id, model) values (1, 'Email:1.0:UNIFORM:NA');"
   ]
  },
  {
   "cell_type": "code",
   "execution_count": null,
   "id": "22f1b78f",
   "metadata": {},
   "outputs": [],
   "source": [
    "-- View all 3 tables\n",
    "SELECT * FROM TRNG_TDU_TD01.attrib9 ORDER BY ts;\n",
    "SELECT * FROM conversion_event_table;\n",
    "SELECT * FROM model_table ORDER BY id;"
   ]
  },
  {
   "cell_type": "code",
   "execution_count": null,
   "id": "41467315",
   "metadata": {},
   "outputs": [],
   "source": [
    "-- Score up to 4 \"Email\" rows Uniformly prior to Conversion\n",
    "SELECT * FROM Attribution \n",
    "(ON TRNG_TDU_TD01.attrib9\n",
    " PARTITION BY id \n",
    " ORDER BY ts\n",
    " ON conversion_event_table AS conversion DIMENSION\n",
    " ON model_table AS model1 DIMENSION\n",
    " USING\n",
    " EventColumn ('event')\n",
    " TimestampColumn ('ts')\n",
    " WindowSize ('ROWS:4')\n",
    ") AS dt ORDER BY id, ts;"
   ]
  },
  {
   "cell_type": "code",
   "execution_count": null,
   "id": "2de1893b",
   "metadata": {},
   "outputs": [],
   "source": [
    "------------------------------------------------------------\n",
    "-- Lab 10: Model Type = SEGMENT_ROWS --\n",
    "------------------------------------------------------------\n",
    "-- Create Conversion Table and Populate\n",
    "DROP TABLE conversion_event_table;"
   ]
  },
  {
   "cell_type": "code",
   "execution_count": null,
   "id": "c77c9348",
   "metadata": {},
   "outputs": [],
   "source": [
    "DROP TABLE model_table;"
   ]
  },
  {
   "cell_type": "code",
   "execution_count": null,
   "id": "ed18561b",
   "metadata": {},
   "outputs": [],
   "source": [
    "CREATE MULTISET TABLE conversion_event_table (conversion_events varchar (255));"
   ]
  },
  {
   "cell_type": "code",
   "execution_count": null,
   "id": "bcd58854",
   "metadata": {},
   "outputs": [],
   "source": [
    "CREATE MULTISET TABLE model_table (id integer, model varchar (255));"
   ]
  },
  {
   "cell_type": "code",
   "execution_count": null,
   "id": "b63fc1d4",
   "metadata": {},
   "outputs": [],
   "source": [
    "INSERT into conversion_event_table (conversion_events) values ('Buy');\n",
    "\n",
    "INSERT into model_table (id, model) values (0, 'SEGMENT_ROWS');\n",
    "INSERT into model_table (id, model) values (1, '2:0.70:UNIFORM:NA');\n",
    "INSERT into model_table (id, model) values (2, '2:0.30:UNIFORM:NA');"
   ]
  },
  {
   "cell_type": "code",
   "execution_count": null,
   "id": "42769149",
   "metadata": {},
   "outputs": [],
   "source": [
    "-- View all 3 tables\n",
    "SELECT * FROM TRNG_TDU_TD01.attrib9 ORDER BY ts;\n",
    "SELECT * FROM conversion_event_table;\n",
    "SELECT * FROM model_table ORDER BY id;"
   ]
  },
  {
   "cell_type": "code",
   "execution_count": null,
   "id": "98c8be82",
   "metadata": {},
   "outputs": [],
   "source": [
    "-- Score 4 rows via SEGMENT_ROWS prior to Conversion\n",
    "SELECT * FROM Attribution \n",
    "(ON TRNG_TDU_TD01.attrib9\n",
    " PARTITION BY id \n",
    " ORDER BY ts\n",
    " ON conversion_event_table AS conversion DIMENSION\n",
    " ON model_table AS model1 DIMENSION\n",
    " USING\n",
    " EventColumn ('event')\n",
    " TimestampColumn ('ts')\n",
    " WindowSize ('ROWS:4')\n",
    ") AS dt ORDER BY id, ts;"
   ]
  },
  {
   "cell_type": "code",
   "execution_count": null,
   "id": "ceadaac8",
   "metadata": {},
   "outputs": [],
   "source": [
    "-----------------------------------------------------------------\n",
    "-- Lab 11: Model Type = SEGMENT_SECONDS --\n",
    "-----------------------------------------------------------------\n",
    "-- Create Conversion Table and Populate\n",
    "DROP TABLE conversion_event_table;"
   ]
  },
  {
   "cell_type": "code",
   "execution_count": null,
   "id": "b9616330",
   "metadata": {},
   "outputs": [],
   "source": [
    "DROP TABLE model_table;"
   ]
  },
  {
   "cell_type": "code",
   "execution_count": null,
   "id": "c8eafea2",
   "metadata": {},
   "outputs": [],
   "source": [
    "CREATE MULTISET TABLE conversion_event_table (conversion_events varchar (255));"
   ]
  },
  {
   "cell_type": "code",
   "execution_count": null,
   "id": "41242325",
   "metadata": {},
   "outputs": [],
   "source": [
    "CREATE MULTISET TABLE model_table (id integer, model varchar (255));"
   ]
  },
  {
   "cell_type": "code",
   "execution_count": null,
   "id": "81651905",
   "metadata": {},
   "outputs": [],
   "source": [
    "INSERT into conversion_event_table (conversion_events) values ('Buy');\n",
    "\n",
    "INSERT into model_table (id, model) values (0, 'SEGMENT_SECONDS');\n",
    "INSERT into model_table (id, model) values (1, '5:0.70:UNIFORM:NA');\n",
    "INSERT into model_table (id, model) values (2, '7:0.30:UNIFORM:NA');"
   ]
  },
  {
   "cell_type": "code",
   "execution_count": null,
   "id": "fde4073e",
   "metadata": {},
   "outputs": [],
   "source": [
    "-- View all 3 tables\n",
    "SELECT * FROM TRNG_TDU_TD01.attrib9 ORDER BY ts;\n",
    "SELECT * FROM conversion_event_table;\n",
    "SELECT * FROM model_table ORDER BY id;"
   ]
  },
  {
   "cell_type": "code",
   "execution_count": null,
   "id": "3ff9c828",
   "metadata": {
    "tags": []
   },
   "outputs": [],
   "source": [
    "-- Score 4 rows via SEGMENT_SECONDS prior to Conversion\n",
    "SELECT * FROM Attribution \n",
    "(ON TRNG_TDU_TD01.attrib9\n",
    " PARTITION BY id \n",
    " ORDER BY ts\n",
    " ON conversion_event_table AS conversion DIMENSION\n",
    " ON model_table AS model1 DIMENSION\n",
    " USING\n",
    " EventColumn ('event')\n",
    " TimestampColumn ('ts')\n",
    " WindowSize ('SECONDS:12')\n",
    ") AS dt ORDER BY id, ts;"
   ]
  },
  {
   "cell_type": "code",
   "execution_count": null,
   "id": "68dde99d",
   "metadata": {},
   "outputs": [],
   "source": [
    "-------------------------------------------------------\n",
    "-- Lab 12: Model Values = LAST_CLICK --\n",
    "-------------------------------------------------------\n",
    "-- Create Conversion Table and Populate\n",
    "DROP TABLE conversion_event_table;"
   ]
  },
  {
   "cell_type": "code",
   "execution_count": null,
   "id": "805ecbcc",
   "metadata": {},
   "outputs": [],
   "source": [
    "DROP TABLE model_table;"
   ]
  },
  {
   "cell_type": "code",
   "execution_count": null,
   "id": "ca84493d",
   "metadata": {},
   "outputs": [],
   "source": [
    "CREATE MULTISET TABLE conversion_event_table (conversion_events varchar (255));"
   ]
  },
  {
   "cell_type": "code",
   "execution_count": null,
   "id": "c4e19600",
   "metadata": {},
   "outputs": [],
   "source": [
    "CREATE MULTISET TABLE model_table (id integer, model varchar (255));"
   ]
  },
  {
   "cell_type": "code",
   "execution_count": null,
   "id": "2e1b9ef1",
   "metadata": {},
   "outputs": [],
   "source": [
    "INSERT into conversion_event_table (conversion_events) values ('Buy');\n",
    "\n",
    "INSERT into model_table (id, model) values (0, 'SEGMENT_ROWS');\n",
    "INSERT into model_table (id, model) values (1, '4:1.0:LAST_CLICK:NA');"
   ]
  },
  {
   "cell_type": "code",
   "execution_count": null,
   "id": "e3f79bd5",
   "metadata": {},
   "outputs": [],
   "source": [
    "-- View all 3 tables\n",
    "SELECT * FROM TRNG_TDU_TD01.attrib9 ORDER BY ts;\n",
    "SELECT * FROM conversion_event_table;\n",
    "SELECT * FROM model_table ORDER BY id;"
   ]
  },
  {
   "cell_type": "code",
   "execution_count": null,
   "id": "8c640b6f",
   "metadata": {},
   "outputs": [],
   "source": [
    "-- Score 4 rows using LAST_CLICK prior to Conversion\n",
    "SELECT * FROM Attribution \n",
    "(ON TRNG_TDU_TD01.attrib9\n",
    " PARTITION BY id \n",
    " ORDER BY ts\n",
    " ON conversion_event_table AS conversion DIMENSION\n",
    " ON model_table AS model1 DIMENSION\n",
    " USING\n",
    " EventColumn ('event')\n",
    " TimestampColumn ('ts')\n",
    " WindowSize ('ROWS:4')\n",
    ") AS dt ORDER BY id, ts;"
   ]
  },
  {
   "cell_type": "code",
   "execution_count": null,
   "id": "ba295aeb",
   "metadata": {
    "tags": []
   },
   "outputs": [],
   "source": [
    "--------------------------------------------------------\n",
    "-- Lab 13: Model Values = FIRST_CLICK --\n",
    "--------------------------------------------------------\n",
    "-- Create Conversion Table and Populate\n",
    "DROP TABLE conversion_event_table;"
   ]
  },
  {
   "cell_type": "code",
   "execution_count": null,
   "id": "1fba67d1",
   "metadata": {},
   "outputs": [],
   "source": [
    "DROP TABLE model_table;"
   ]
  },
  {
   "cell_type": "code",
   "execution_count": null,
   "id": "23b62602",
   "metadata": {},
   "outputs": [],
   "source": [
    "CREATE MULTISET TABLE conversion_event_table (conversion_events varchar (255));"
   ]
  },
  {
   "cell_type": "code",
   "execution_count": null,
   "id": "69b13eb4",
   "metadata": {},
   "outputs": [],
   "source": [
    "CREATE MULTISET TABLE model_table (id integer, model varchar (255));"
   ]
  },
  {
   "cell_type": "code",
   "execution_count": null,
   "id": "104facc5",
   "metadata": {},
   "outputs": [],
   "source": [
    "INSERT into conversion_event_table (conversion_events) values ('Buy');\n",
    "\n",
    "INSERT into model_table (id, model) values (0, 'SIMPLE');\n",
    "INSERT into model_table (id, model) values (1, 'FIRST_CLICK:NA');"
   ]
  },
  {
   "cell_type": "code",
   "execution_count": null,
   "id": "09149957",
   "metadata": {},
   "outputs": [],
   "source": [
    "-- View all 3 tables\n",
    "SELECT * FROM TRNG_TDU_TD01.attrib9 ORDER BY ts;\n",
    "SELECT * FROM conversion_event_table;\n",
    "SELECT * FROM model_table ORDER BY id;"
   ]
  },
  {
   "cell_type": "code",
   "execution_count": null,
   "id": "3cc85771",
   "metadata": {},
   "outputs": [],
   "source": [
    "-- Score 4 rows using FIRST_CLICK prior to Conversion\n",
    "SELECT * FROM Attribution \n",
    "(ON TRNG_TDU_TD01.attrib9\n",
    " PARTITION BY id \n",
    " ORDER BY ts\n",
    " ON conversion_event_table AS conversion DIMENSION\n",
    " ON model_table AS model1 DIMENSION\n",
    " USING\n",
    " EventColumn ('event')\n",
    " TimestampColumn ('ts')\n",
    " WindowSize ('ROWS:4')\n",
    ") AS dt ORDER BY id, ts;"
   ]
  },
  {
   "cell_type": "code",
   "execution_count": null,
   "id": "61a87a19",
   "metadata": {},
   "outputs": [],
   "source": [
    "---------------------------------------------------\n",
    "-- Lab 14: Model Values = UNIFORM --      \n",
    "---------------------------------------------------\n",
    "-- Create Conversion Table and Populate\n",
    "DROP TABLE conversion_event_table;"
   ]
  },
  {
   "cell_type": "code",
   "execution_count": null,
   "id": "ce38f06b",
   "metadata": {},
   "outputs": [],
   "source": [
    "DROP TABLE model_table;"
   ]
  },
  {
   "cell_type": "code",
   "execution_count": null,
   "id": "fb27f75c",
   "metadata": {},
   "outputs": [],
   "source": [
    "CREATE MULTISET TABLE conversion_event_table (conversion_events varchar (255));"
   ]
  },
  {
   "cell_type": "code",
   "execution_count": null,
   "id": "45bdb434",
   "metadata": {},
   "outputs": [],
   "source": [
    "CREATE MULTISET TABLE model_table (id integer, model varchar (255));"
   ]
  },
  {
   "cell_type": "code",
   "execution_count": null,
   "id": "31c7e59c",
   "metadata": {},
   "outputs": [],
   "source": [
    "INSERT into conversion_event_table (conversion_events) values ('Buy');\n",
    "\n",
    "INSERT into model_table (id, model) values (0, 'SIMPLE');\n",
    "INSERT into model_table (id, model) values (1, 'UNIFORM:NA');"
   ]
  },
  {
   "cell_type": "code",
   "execution_count": null,
   "id": "2edb59ea",
   "metadata": {},
   "outputs": [],
   "source": [
    "-- View all 3 tables\n",
    "SELECT * FROM TRNG_TDU_TD01.attrib9 ORDER BY ts;\n",
    "SELECT * FROM conversion_event_table;\n",
    "SELECT * FROM model_table ORDER BY id;"
   ]
  },
  {
   "cell_type": "code",
   "execution_count": null,
   "id": "d55cefa0",
   "metadata": {},
   "outputs": [],
   "source": [
    "-- Score 4 rows using UNIFORM prior to Conversion\n",
    "SELECT * FROM Attribution \n",
    "(ON TRNG_TDU_TD01.attrib9\n",
    " PARTITION BY id \n",
    " ORDER BY ts\n",
    " ON conversion_event_table AS conversion DIMENSION\n",
    " ON model_table AS model1 DIMENSION\n",
    " USING\n",
    " EventColumn ('event')\n",
    " TimestampColumn ('ts')\n",
    " WindowSize ('ROWS:4')\n",
    ") AS dt ORDER BY id, ts;"
   ]
  },
  {
   "cell_type": "code",
   "execution_count": null,
   "id": "fb801535",
   "metadata": {},
   "outputs": [],
   "source": [
    "---------------------------------------------------------\n",
    "-- Lab 15: Model Values = EXPONENTIAL --          \n",
    "---------------------------------------------------------\n",
    "-- Create Conversion Table and Populate\n",
    "DROP TABLE conversion_event_table;"
   ]
  },
  {
   "cell_type": "code",
   "execution_count": null,
   "id": "e85ca9ba",
   "metadata": {},
   "outputs": [],
   "source": [
    "DROP TABLE model_table;"
   ]
  },
  {
   "cell_type": "code",
   "execution_count": null,
   "id": "6fedde53",
   "metadata": {},
   "outputs": [],
   "source": [
    "CREATE MULTISET TABLE conversion_event_table (conversion_events varchar (255));"
   ]
  },
  {
   "cell_type": "code",
   "execution_count": null,
   "id": "48d66dd5",
   "metadata": {},
   "outputs": [],
   "source": [
    "CREATE MULTISET TABLE model_table (id integer, model varchar (255));"
   ]
  },
  {
   "cell_type": "code",
   "execution_count": null,
   "id": "815c74f0",
   "metadata": {},
   "outputs": [],
   "source": [
    "INSERT into conversion_event_table (conversion_events) values ('Buy');\n",
    "\n",
    "INSERT into model_table (id, model) values (0, 'SIMPLE');\n",
    "INSERT into model_table (id, model) values (1, 'EXPONENTIAL:0.5,ROW');"
   ]
  },
  {
   "cell_type": "code",
   "execution_count": null,
   "id": "21cd842b",
   "metadata": {},
   "outputs": [],
   "source": [
    "-- View all 3 tables\n",
    "SELECT * FROM TRNG_TDU_TD01.attrib9 ORDER BY ts;\n",
    "SELECT * FROM conversion_event_table;\n",
    "SELECT * FROM model_table ORDER BY id;"
   ]
  },
  {
   "cell_type": "code",
   "execution_count": null,
   "id": "ed9d47a4",
   "metadata": {},
   "outputs": [],
   "source": [
    "-- Score 4 rows using EXPONENTIAL prior to Conversion\n",
    "SELECT * FROM Attribution \n",
    "(ON TRNG_TDU_TD01.attrib9\n",
    " PARTITION BY id \n",
    " ORDER BY ts\n",
    " ON conversion_event_table AS conversion DIMENSION\n",
    " ON model_table AS model1 DIMENSION\n",
    " USING\n",
    " EventColumn ('event')\n",
    " TimestampColumn ('ts')\n",
    " WindowSize ('ROWS:4')\n",
    ")  AS dt ORDER BY id, ts;"
   ]
  },
  {
   "cell_type": "code",
   "execution_count": null,
   "id": "ee4e4141",
   "metadata": {},
   "outputs": [],
   "source": [
    "-----------------------------------------------------\n",
    "-- Lab 16: Model Values = WEIGHTED --\n",
    "-----------------------------------------------------\n",
    "-- Create Conversion Table and Populate\n",
    "DROP TABLE conversion_event_table;"
   ]
  },
  {
   "cell_type": "code",
   "execution_count": null,
   "id": "acc74464",
   "metadata": {},
   "outputs": [],
   "source": [
    "DROP TABLE model_table;"
   ]
  },
  {
   "cell_type": "code",
   "execution_count": null,
   "id": "149cab72",
   "metadata": {},
   "outputs": [],
   "source": [
    "CREATE MULTISET TABLE conversion_event_table (conversion_events varchar (255));"
   ]
  },
  {
   "cell_type": "code",
   "execution_count": null,
   "id": "cc5dab05",
   "metadata": {},
   "outputs": [],
   "source": [
    "CREATE MULTISET TABLE model_table (id integer, model varchar (255));"
   ]
  },
  {
   "cell_type": "code",
   "execution_count": null,
   "id": "9567b85a",
   "metadata": {},
   "outputs": [],
   "source": [
    "INSERT into conversion_event_table (conversion_events) values ('Buy');\n",
    "\n",
    "INSERT into model_table (id, model) values (0, 'SIMPLE');\n",
    "INSERT into model_table (id, model) values (1, 'WEIGHTED:0.5, 0.3, 0.1, 0.1');"
   ]
  },
  {
   "cell_type": "code",
   "execution_count": null,
   "id": "951f562a",
   "metadata": {},
   "outputs": [],
   "source": [
    "-- View all 3 tables\n",
    "SELECT * FROM TRNG_TDU_TD01.attrib9 ORDER BY ts;\n",
    "SELECT * FROM conversion_event_table;\n",
    "SELECT * FROM model_table ORDER BY id;"
   ]
  },
  {
   "cell_type": "code",
   "execution_count": null,
   "id": "f166470c",
   "metadata": {
    "tags": []
   },
   "outputs": [],
   "source": [
    "-- Score 4 rows using WEIGHTED prior to Conversion\n",
    "SELECT * FROM Attribution \n",
    "(ON TRNG_TDU_TD01.attrib9\n",
    " PARTITION BY id \n",
    " ORDER BY ts\n",
    " ON conversion_event_table AS conversion DIMENSION\n",
    " ON model_table AS model1 DIMENSION\n",
    " USING\n",
    " EventColumn ('event')\n",
    " TimestampColumn ('ts')\n",
    " WindowSize ('ROWS:4')\n",
    ") AS dt ORDER BY id, ts;"
   ]
  },
  {
   "cell_type": "code",
   "execution_count": null,
   "id": "4dec0d56",
   "metadata": {
    "tags": []
   },
   "outputs": [],
   "source": [
    "----------------------------------------------------------------\n",
    "-- Lab 17: WindowSize Exceeds Available Data --\n",
    "----------------------------------------------------------------\n",
    "-- Create Conversion Table and Populate\n",
    "DROP TABLE conversion_event_table;"
   ]
  },
  {
   "cell_type": "code",
   "execution_count": null,
   "id": "7333cdd0",
   "metadata": {},
   "outputs": [],
   "source": [
    "DROP TABLE model_table;"
   ]
  },
  {
   "cell_type": "code",
   "execution_count": null,
   "id": "592d03e2",
   "metadata": {},
   "outputs": [],
   "source": [
    "CREATE MULTISET TABLE conversion_event_table (conversion_events varchar (255));"
   ]
  },
  {
   "cell_type": "code",
   "execution_count": null,
   "id": "02d5bfcc",
   "metadata": {},
   "outputs": [],
   "source": [
    "CREATE MULTISET TABLE model_table (id integer, model varchar (255));"
   ]
  },
  {
   "cell_type": "code",
   "execution_count": null,
   "id": "04c51089",
   "metadata": {},
   "outputs": [],
   "source": [
    "INSERT into conversion_event_table (conversion_events) values ('Conversion');\n",
    "\n",
    "INSERT into model_table (id, model) values (0, 'SIMPLE');\n",
    "INSERT into model_table (id, model) values (1, 'UNIFORM:NA');"
   ]
  },
  {
   "cell_type": "code",
   "execution_count": null,
   "id": "b95d16e9",
   "metadata": {},
   "outputs": [],
   "source": [
    "-- View all 3 tables\n",
    "SELECT * FROM TRNG_TDU_TD01.attrib1 ORDER BY ts;\n",
    "SELECT * FROM conversion_event_table;\n",
    "SELECT * FROM model_table ORDER BY id;"
   ]
  },
  {
   "cell_type": "code",
   "execution_count": null,
   "id": "a453781b",
   "metadata": {},
   "outputs": [],
   "source": [
    "-- Score 4 rows prior to Conversion\n",
    "SELECT * FROM Attribution \n",
    "(ON TRNG_TDU_TD01.attrib1\n",
    " PARTITION BY id \n",
    " ORDER BY ts\n",
    " ON conversion_event_table AS conversion DIMENSION\n",
    " ON model_table AS model1 DIMENSION\n",
    " USING\n",
    " EventColumn ('event')\n",
    " TimestampColumn ('ts')\n",
    " WindowSize ('ROWS:5')\n",
    ") AS dt ORDER BY id, ts;"
   ]
  },
  {
   "cell_type": "code",
   "execution_count": null,
   "id": "5b508ca0",
   "metadata": {},
   "outputs": [],
   "source": [
    "------------------------------------\n",
    "-- Lab 18: ExcludeEvents --\n",
    "------------------------------------\n",
    "\n",
    "----------------------------------------------------------------\n",
    "-- Lab 18a: Without ExcludeEvents argument    --\n",
    "-- Notice have 'TV' and 'PrintAd' rows in Output --\n",
    "----------------------------------------------------------------\n",
    "-- Create Conversion Table and Populate\n",
    "DROP TABLE conversion_event_table;"
   ]
  },
  {
   "cell_type": "code",
   "execution_count": null,
   "id": "5ae9d38a",
   "metadata": {},
   "outputs": [],
   "source": [
    "DROP TABLE model_table;"
   ]
  },
  {
   "cell_type": "code",
   "execution_count": null,
   "id": "a62c74d0",
   "metadata": {},
   "outputs": [],
   "source": [
    "CREATE MULTISET TABLE conversion_event_table (conversion_events varchar (255));"
   ]
  },
  {
   "cell_type": "code",
   "execution_count": null,
   "id": "0fb85cfa",
   "metadata": {},
   "outputs": [],
   "source": [
    "CREATE MULTISET TABLE model_table (id integer, model varchar (255));"
   ]
  },
  {
   "cell_type": "code",
   "execution_count": null,
   "id": "0229fee5",
   "metadata": {},
   "outputs": [],
   "source": [
    "INSERT into conversion_event_table (conversion_events) values ('Buy');\n",
    "\n",
    "INSERT into model_table (id, model) values (0, 'SIMPLE');\n",
    "INSERT into model_table (id, model) values (1, 'UNIFORM:NA');"
   ]
  },
  {
   "cell_type": "code",
   "execution_count": null,
   "id": "837d6944",
   "metadata": {},
   "outputs": [],
   "source": [
    "-- Create Exclude Event Table and Populate\n",
    "DROP TABLE excluding_event_table;"
   ]
  },
  {
   "cell_type": "code",
   "execution_count": null,
   "id": "144e7f53",
   "metadata": {},
   "outputs": [],
   "source": [
    "CREATE MULTISET TABLE excluding_event_table (excluding_events varchar (255));"
   ]
  },
  {
   "cell_type": "code",
   "execution_count": null,
   "id": "e4dd686e",
   "metadata": {},
   "outputs": [],
   "source": [
    "INSERT into excluding_event_table (excluding_events) values ('TV');\n",
    "INSERT into excluding_event_table (excluding_events) values ('PrintAd');"
   ]
  },
  {
   "cell_type": "code",
   "execution_count": null,
   "id": "df6796d8",
   "metadata": {},
   "outputs": [],
   "source": [
    "-- View all 4 tables\n",
    "SELECT * FROM TRNG_TDU_TD01.attrib7 ORDER BY ts;\n",
    "SELECT * FROM conversion_event_table;\n",
    "SELECT * FROM model_table ORDER BY id;\n",
    "SELECT * FROM excluding_event_table;"
   ]
  },
  {
   "cell_type": "code",
   "execution_count": null,
   "id": "a572270e",
   "metadata": {},
   "outputs": [],
   "source": [
    "-- Without ExcludeEvents argument \n",
    "SELECT * FROM Attribution \n",
    "(ON TRNG_TDU_TD01.attrib7\n",
    " PARTITION BY id \n",
    " ORDER BY ts\n",
    " ON conversion_event_table AS conversion DIMENSION\n",
    " -- ON excluding_event_table AS ExcludedEventTable DIMENSION\n",
    " ON model_table AS model1 DIMENSION\n",
    " USING\n",
    " EventColumn ('event')\n",
    " TimestampColumn ('ts')\n",
    " WindowSize ('ROWS:10')\n",
    ") AS dt ORDER BY id, ts;"
   ]
  },
  {
   "cell_type": "code",
   "execution_count": null,
   "id": "c2724402",
   "metadata": {},
   "outputs": [],
   "source": [
    "------------------------------------------------------------------------\n",
    "-- Lab 18b (With ExcludeEvents argument)                 --\n",
    "-- Notice 'TV' and 'PrintAd' rows removed from Output --\n",
    "------------------------------------------------------------------------\n",
    "SELECT * FROM Attribution \n",
    "(ON TRNG_TDU_TD01.attrib7\n",
    " PARTITION BY id \n",
    " ORDER BY ts\n",
    " ON conversion_event_table AS conversion DIMENSION\n",
    " ON excluding_event_table AS ExcludedEventTable DIMENSION\n",
    " ON model_table AS model1 DIMENSION\n",
    " USING\n",
    " EventColumn ('event')\n",
    " TimestampColumn ('ts')\n",
    " WindowSize ('ROWS:10')\n",
    ") AS dt ORDER BY id, ts;"
   ]
  },
  {
   "cell_type": "code",
   "execution_count": null,
   "id": "f1dbbb5d",
   "metadata": {
    "tags": []
   },
   "outputs": [],
   "source": [
    "--------------------------------------------------------------\n",
    "-- Lab 20                                                          --\n",
    "-- Combining Multiple Model Values Together --\n",
    "--------------------------------------------------------------\n",
    "-- Create Conversion Table and Populate\n",
    "DROP TABLE conversion_event_table;"
   ]
  },
  {
   "cell_type": "code",
   "execution_count": null,
   "id": "8a618870",
   "metadata": {},
   "outputs": [],
   "source": [
    "DROP TABLE model_table;"
   ]
  },
  {
   "cell_type": "code",
   "execution_count": null,
   "id": "7269f32d",
   "metadata": {},
   "outputs": [],
   "source": [
    "CREATE MULTISET TABLE conversion_event_table (conversion_events varchar (255));"
   ]
  },
  {
   "cell_type": "code",
   "execution_count": null,
   "id": "8fb05ed7",
   "metadata": {},
   "outputs": [],
   "source": [
    "CREATE MULTISET TABLE model_table (id integer, model varchar (255));"
   ]
  },
  {
   "cell_type": "code",
   "execution_count": null,
   "id": "728c03da",
   "metadata": {},
   "outputs": [],
   "source": [
    "INSERT into conversion_event_table (conversion_events) values ('buy');\n",
    "\n",
    "INSERT into model_table (id, model) values (0, 'SEGMENT_ROWS');\n",
    "INSERT into model_table (id, model) values (1, '3:0.4:UNIFORM:NA');\n",
    "INSERT into model_table (id, model) values (2, '3:0.3:LAST_CLICK:NA');\n",
    "INSERT into model_table (id, model) values (3, '3:0.2:EXPONENTIAL:0.5,ROW');\n",
    "INSERT into model_table (id, model) values (4, '3:0.1:FIRST_CLICK:NA');"
   ]
  },
  {
   "cell_type": "code",
   "execution_count": null,
   "id": "6d267efe",
   "metadata": {},
   "outputs": [],
   "source": [
    "-- View all 3 tables\n",
    "SELECT * FROM TRNG_TDU_TD01.borre_y ORDER BY user_id, ts;\n",
    "SELECT * FROM conversion_event_table;\n",
    "SELECT * FROM model_table ORDER BY id;"
   ]
  },
  {
   "cell_type": "code",
   "execution_count": null,
   "id": "7428bca2",
   "metadata": {},
   "outputs": [],
   "source": [
    "-- Run multiple model values\n",
    "SELECT * FROM Attribution \n",
    "(ON TRNG_TDU_TD01.borre_y\n",
    " PARTITION BY user_id \n",
    " ORDER BY ts\n",
    " ON conversion_event_table AS conversion DIMENSION\n",
    " ON model_table AS model1 DIMENSION\n",
    " USING\n",
    " EventColumn ('event')\n",
    " TimestampColumn ('ts')\n",
    " WindowSize ('rows:12')\n",
    ") AS dt ORDER BY user_id, ts;"
   ]
  },
  {
   "cell_type": "markdown",
   "id": "7a4fd352",
   "metadata": {},
   "source": [
    "#### Disconnect from Vantage"
   ]
  },
  {
   "cell_type": "code",
   "execution_count": null,
   "id": "c7ecb9ee",
   "metadata": {},
   "outputs": [],
   "source": [
    "%disconnect ${SystemName}"
   ]
  },
  {
   "cell_type": "code",
   "execution_count": null,
   "id": "ef75129b",
   "metadata": {},
   "outputs": [],
   "source": []
  },
  {
   "cell_type": "markdown",
   "id": "3c513feb",
   "metadata": {},
   "source": [
    "Copyright 2021 Teradata. All rights reserved."
   ]
  }
 ],
 "metadata": {
  "kernelspec": {
   "display_name": "Teradata SQL",
   "language": "Teradata SQL",
   "name": "teradatasql"
  },
  "language_info": {
   "codemirror_mode": "Teradata SQL",
   "file_extension": ".tdrs",
   "mimetype": "application/vnd.teradata.resultset",
   "name": "Teradata SQL",
   "nbconvert_exporter": "",
   "pygments_lexer": "",
   "version": "16.20"
  }
 },
 "nbformat": 4,
 "nbformat_minor": 5
}
