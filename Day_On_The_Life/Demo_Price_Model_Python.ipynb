{
 "cells": [
  {
   "cell_type": "markdown",
   "id": "06286bf3",
   "metadata": {},
   "source": [
    "# Modelo de Estimación del Precio de Viviendas\n",
    "## Step 1: Business Understanding\n",
    "Este dataset contiene información recolectada de precios y características de 142 mil viviendas en Colombia. La información se encuentra disponible públicamente en el repositorio Kaggle: https://www.kaggle.com/datasets/danieleduardofajardo/colombia-house-prediction"
   ]
  },
  {
   "cell_type": "markdown",
   "id": "c21a5271",
   "metadata": {},
   "source": [
    "### Cargamos las librerías"
   ]
  },
  {
   "cell_type": "code",
   "execution_count": null,
   "id": "0a84c4c2",
   "metadata": {},
   "outputs": [],
   "source": [
    "from teradataml import create_context, DataFrame, get_context, copy_to_sql, in_schema, remove_context\n",
    "from teradataml.dataframe.sql_functions import case\n",
    "import tdconnect\n",
    "import pandas as pd\n",
    "import numpy as np\n",
    "import getpass as gp\n",
    "\n",
    "from teradataml import *\n",
    "from teradataml.analytics.valib import *\n",
    "configure.val_install_location = \"TRNG_XSP\""
   ]
  },
  {
   "cell_type": "markdown",
   "id": "aa002bf8",
   "metadata": {},
   "source": [
    "### Creamos la conexión con Vantage"
   ]
  },
  {
   "cell_type": "code",
   "execution_count": null,
   "id": "bb2ad621",
   "metadata": {},
   "outputs": [],
   "source": [
    "# Establish connection to Teradata Vantage server (uses the Teradata SQL Driver for Python). \n",
    "td_context = create_context(host=\"tdprd.td.teradata.com\", username=\"lc250058\", password=gp.getpass(prompt='Password:'), logmech=\"LDAP\")"
   ]
  },
  {
   "cell_type": "markdown",
   "id": "b06cf4a5",
   "metadata": {},
   "source": [
    "### Creamos el DataFrame y traemos la cabecera"
   ]
  },
  {
   "cell_type": "code",
   "execution_count": null,
   "id": "89a27343",
   "metadata": {},
   "outputs": [],
   "source": [
    "tdPrecios = DataFrame(in_schema(\"ADLSLSAMER_MS_AZ\", \"Precio_Casas_Col\"))\n",
    "tdPrecios.head(10).to_pandas()"
   ]
  },
  {
   "cell_type": "markdown",
   "id": "b3e9f50d",
   "metadata": {},
   "source": [
    "### Tamaño de la tabla"
   ]
  },
  {
   "cell_type": "code",
   "execution_count": null,
   "id": "7512a651",
   "metadata": {},
   "outputs": [],
   "source": [
    "tdPrecios.shape"
   ]
  },
  {
   "cell_type": "markdown",
   "id": "9006109c",
   "metadata": {},
   "source": [
    "## Step 2: Data Understanding\n",
    "### Exploración de Valores"
   ]
  },
  {
   "cell_type": "code",
   "execution_count": null,
   "id": "fc28b6db",
   "metadata": {},
   "outputs": [],
   "source": [
    "explor = valib.Values(data=tdPrecios, columns=\"all\")\n",
    "explor.result.to_pandas()"
   ]
  },
  {
   "cell_type": "markdown",
   "id": "2e47e3d2",
   "metadata": {},
   "source": [
    "### Explorando los Valores Atípicos (Outliers)"
   ]
  },
  {
   "cell_type": "code",
   "execution_count": null,
   "id": "fcba39e4",
   "metadata": {},
   "outputs": [],
   "source": [
    "out = valib.Statistics(data=tdPrecios, columns=[\"area\", \"valor\"], extended_options=\"quantiles\")\n",
    "out.result.to_pandas()"
   ]
  },
  {
   "cell_type": "markdown",
   "id": "401db935",
   "metadata": {},
   "source": [
    "### Distribución de Frecuencias por la Antiguedad"
   ]
  },
  {
   "cell_type": "code",
   "execution_count": null,
   "id": "0172a09b",
   "metadata": {},
   "outputs": [],
   "source": [
    "tdAntig = valib.Frequency(data=tdPrecios, columns=\"antiguedad_original\")\n",
    "tdAntig.result.to_pandas().sort_values(['xval'])"
   ]
  },
  {
   "cell_type": "code",
   "execution_count": null,
   "id": "f2d5233c",
   "metadata": {},
   "outputs": [],
   "source": []
  },
  {
   "cell_type": "markdown",
   "id": "36c4f16c",
   "metadata": {},
   "source": [
    "## Step 3: Data Preparation\n",
    "### Transformacion de Variables e Imputacion"
   ]
  },
  {
   "cell_type": "code",
   "execution_count": null,
   "id": "e0d02d5b",
   "metadata": {},
   "outputs": [],
   "source": [
    "##dc = OneHotEncoder(style=\"dummy\", values=[\"Entre 0 y 5 años\", \"Entre 5 y 10 años\", \"Entre 10 y 20 años\",\"Más de 20 años\"],columns=\"antiguedad_original\", out_columns=\"antig\")"
   ]
  },
  {
   "cell_type": "code",
   "execution_count": null,
   "id": "3839e665",
   "metadata": {},
   "outputs": [],
   "source": [
    "ndf = DataFrame.from_query(\"select id, area, habitaciones, CASE WHEN antiguedad_original='Entre 10 y 20 años' THEN 1 ELSE 0 END AS ant10_20, CASE WHEN antiguedad_original='Entre 0 y 5 años' THEN 1 ELSE 0 END AS ant0_5, CASE WHEN antiguedad_original='Entre 5 y 10 años' THEN 1 ELSE 0 END AS ant5_10, CASE WHEN antiguedad_original='Más de 20 años' THEN 1 ELSE 0 END AS ant20_mas, CASE WHEN antiguedad_original='1 a 8 años' THEN 1 ELSE 0 END AS ant1_8, CASE WHEN antiguedad_original='16 a 30 años' THEN 1 ELSE 0 END AS ant16_30, CASE WHEN antiguedad_original='9 a 15 años' THEN 1 ELSE 0 END AS ant9_15, CASE WHEN antiguedad_original='Más de 30 años' THEN 1 ELSE 0 END AS ant30_mas, CASE WHEN antiguedad_original='Menos de 1 año' THEN 1 ELSE 0 END AS ant1_menos, banos, garajes, estrato, valor, SAMPLEID as sid FROM ADLSLSAMER_MS_AZ.Precio_Casas_Col WHERE area between 20 and 2000 and valor between 50000000 and 5000000000 SAMPLE RANDOMIZED ALLOCATION 0.7, 0.3\", True, \"id\")"
   ]
  },
  {
   "cell_type": "code",
   "execution_count": null,
   "id": "2c8e7fc9",
   "metadata": {},
   "outputs": [],
   "source": [
    "fn_1 = FillNa(style=\"literal\", value=0, columns=\"garajes\")\n",
    "fn_2 = FillNa(style=\"literal\", value=0, columns=\"estrato\")\n",
    "fn_3 = FillNa(style=\"literal\", value=0, columns=\"banos\")"
   ]
  },
  {
   "cell_type": "code",
   "execution_count": null,
   "id": "11b5cb4e",
   "metadata": {},
   "outputs": [],
   "source": [
    "derive = Derive(formula=\"sqrt(x)\", columns=\"valor\", out_column=\"rvalor\")"
   ]
  },
  {
   "cell_type": "code",
   "execution_count": null,
   "id": "c3529743",
   "metadata": {},
   "outputs": [],
   "source": [
    "retain = Retain(columns=[\"habitaciones\", \"area\",\"ant0_5\",\"ant5_10\",\"ant10_20\",\"ant20_mas\",\"ant1_menos\",\"ant1_8\",\"ant9_15\",\"ant16_30\",\"ant30_mas\",\"sid\"])"
   ]
  },
  {
   "cell_type": "code",
   "execution_count": null,
   "id": "a4b512f5",
   "metadata": {},
   "outputs": [],
   "source": [
    "matriz = valib.Transform(data=ndf, fillna=[fn_1, fn_2, fn_3], derive=derive, retain=retain, key_columns=\"id\", index_columns=\"id\")\n",
    "matriz.result.head().to_pandas()"
   ]
  },
  {
   "cell_type": "markdown",
   "id": "35e2bc0e",
   "metadata": {},
   "source": [
    "### Matriz de Correlaciones para las variables numéricas"
   ]
  },
  {
   "cell_type": "code",
   "execution_count": null,
   "id": "a1d4bbb7",
   "metadata": {},
   "outputs": [],
   "source": [
    "Cor_Mat = valib.Matrix(data=matriz.result, columns='all', type=\"COR\")\n",
    "# Print the results.\n",
    "Cor_Mat.result.to_pandas().sort_values(['rownum'])"
   ]
  },
  {
   "cell_type": "markdown",
   "id": "7d4c4bf8",
   "metadata": {},
   "source": [
    "### División de Muestras Train y Evaluation"
   ]
  },
  {
   "cell_type": "code",
   "execution_count": null,
   "id": "a9f635e9",
   "metadata": {},
   "outputs": [],
   "source": [
    "tbl_train=matriz.result[matriz.result[\"sid\"]==1]\n",
    "tbl_test=matriz.result[matriz.result[\"sid\"]==2]"
   ]
  },
  {
   "cell_type": "markdown",
   "id": "fd93abf5",
   "metadata": {},
   "source": [
    "## Step 4: Modeling\n",
    "### Generación del Modelo de Estimación de Precios"
   ]
  },
  {
   "cell_type": "code",
   "execution_count": null,
   "id": "b7b5b070",
   "metadata": {},
   "outputs": [],
   "source": [
    "tdModel = valib.LinReg(data=tbl_train,\n",
    "                       columns=\"all\",\n",
    "                       exclude_columns=[\"id\", \"sid\"],\n",
    "                       stepwise=True,\n",
    "                       response_column=\"rvalor\")\n",
    "tdModel.model.to_pandas()"
   ]
  },
  {
   "cell_type": "markdown",
   "id": "e1700e96",
   "metadata": {},
   "source": [
    "## Step 5: Evaluation"
   ]
  },
  {
   "cell_type": "code",
   "execution_count": null,
   "id": "dfe8afdf",
   "metadata": {},
   "outputs": [],
   "source": [
    "tdModel.statistical_measures.to_pandas()"
   ]
  },
  {
   "cell_type": "code",
   "execution_count": null,
   "id": "164674b7",
   "metadata": {},
   "outputs": [],
   "source": [
    "valib.LinRegEvaluator(data=tbl_train, model=tdModel.model)"
   ]
  },
  {
   "cell_type": "code",
   "execution_count": null,
   "id": "8bec420e",
   "metadata": {},
   "outputs": [],
   "source": [
    "valib.LinRegEvaluator(data=tbl_test, model=tdModel.model)"
   ]
  },
  {
   "cell_type": "markdown",
   "id": "e86a9aa2",
   "metadata": {},
   "source": [
    "### Step 6: Deployment"
   ]
  },
  {
   "cell_type": "code",
   "execution_count": null,
   "id": "20e8f4e4",
   "metadata": {},
   "outputs": [],
   "source": [
    "tdScore = valib.LinRegPredict(data=tbl_test, model=tdModel.model, response_column=\"rvalue_estim\")\n",
    "tdScore.result.head().to_pandas()"
   ]
  },
  {
   "cell_type": "code",
   "execution_count": null,
   "id": "45e84b0a",
   "metadata": {},
   "outputs": [],
   "source": [
    "derive = Derive(formula=\"x*x\", columns=\"rvalue_estim\", out_column=\"valor_estim\")\n",
    "ScoreFinal = valib.Transform(data=tdScore.result, derive=derive, key_columns=\"id\", index_columns=\"id\")"
   ]
  },
  {
   "cell_type": "code",
   "execution_count": null,
   "id": "9f019527",
   "metadata": {},
   "outputs": [],
   "source": [
    "ScoreFinal.result.to_sql(schema_name=\"ADLSLSAMER_MS_AZ\", table_name=\"Precio_Score\")"
   ]
  },
  {
   "cell_type": "markdown",
   "id": "750fe85b",
   "metadata": {},
   "source": [
    "Copyright 2022. Elaborado por Luis Cajachahua bajo licencia MIT"
   ]
  }
 ],
 "metadata": {
  "kernelspec": {
   "display_name": "Python 3",
   "language": "python",
   "name": "python3"
  },
  "language_info": {
   "codemirror_mode": {
    "name": "ipython",
    "version": 3
   },
   "file_extension": ".py",
   "mimetype": "text/x-python",
   "name": "python",
   "nbconvert_exporter": "python",
   "pygments_lexer": "ipython3",
   "version": "3.7.10"
  }
 },
 "nbformat": 4,
 "nbformat_minor": 5
}
