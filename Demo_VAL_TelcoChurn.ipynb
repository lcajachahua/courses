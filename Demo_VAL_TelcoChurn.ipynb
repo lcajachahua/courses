{
 "cells": [
  {
   "cell_type": "markdown",
   "id": "fa8c46e2",
   "metadata": {},
   "source": [
    "# Abandono de clientes en una compañía telefónica"
   ]
  },
  {
   "cell_type": "markdown",
   "id": "bb98e89f",
   "metadata": {},
   "source": [
    "## Caso de Uso  \n",
    "\n",
    "El ejemplo que vamos a utilizar proviene de un dataset de uso libre disponible en [Kaggle](https://www.kaggle.com/blastchar/telco-customer-churn).\n",
    "\n",
    "El conjunto de datos incluye información sobre:\n",
    "* __Clientes que se fueron en el último mes__: la columna se llama _Churn_  \n",
    "* __Servicios para los que se ha suscrito cada cliente__: teléfono, varias líneas, Internet, seguridad en línea, respaldo en línea, protección de dispositivos, soporte técnico y transmisión de TV y películas  \n",
    "* __Información de la cuenta del cliente__: cuánto tiempo ha sido cliente, contrato, método de pago, facturación electrónica, cargos mensuales y cargos totales  \n",
    "* __Información demográfica sobre los clientes__: sexo, rango de edad y si tienen socios y dependientes\n"
   ]
  },
  {
   "cell_type": "markdown",
   "id": "5f677bed",
   "metadata": {},
   "source": [
    "***"
   ]
  },
  {
   "cell_type": "markdown",
   "id": "cdcc2d9e",
   "metadata": {},
   "source": [
    "## Configuración de la conexión con Vantage"
   ]
  },
  {
   "cell_type": "code",
   "execution_count": null,
   "id": "0ad38473",
   "metadata": {},
   "outputs": [],
   "source": [
    "%connect Transcend-Production"
   ]
  },
  {
   "cell_type": "code",
   "execution_count": null,
   "id": "2a6e9b2a",
   "metadata": {},
   "outputs": [],
   "source": [
    "DATABASE ADLSLSAMER_MS_AZ;"
   ]
  },
  {
   "cell_type": "markdown",
   "id": "ae411013",
   "metadata": {},
   "source": [
    "## Acceso y Exploración de los Datos"
   ]
  },
  {
   "cell_type": "code",
   "execution_count": null,
   "id": "e5e0c688",
   "metadata": {},
   "outputs": [],
   "source": [
    "SELECT TOP 10 * FROM TelcoCustomerChurn"
   ]
  },
  {
   "cell_type": "markdown",
   "id": "8f53d93d",
   "metadata": {},
   "source": [
    "### Exploración de Datos  \n",
    " \n",
    "Vamos a utilizar la función _DataExplorer_ de __Vantage Analytic Library__, Esta función genera varias tablas donde se almacenan los resultados del análisis.   \n",
    "Por eso, primero vamos a eliminar las tablas que contienen el resultado del análisis exploratorio previo para poder recrearlas."
   ]
  },
  {
   "cell_type": "code",
   "execution_count": null,
   "id": "10c07cb3",
   "metadata": {},
   "outputs": [],
   "source": [
    "DROP TABLE TwmExploreValues;"
   ]
  },
  {
   "cell_type": "code",
   "execution_count": null,
   "id": "57083448",
   "metadata": {},
   "outputs": [],
   "source": [
    "DROP TABLE TwmExploreStatistics;"
   ]
  },
  {
   "cell_type": "code",
   "execution_count": null,
   "id": "717f0878",
   "metadata": {},
   "outputs": [],
   "source": [
    "DROP TABLE TwmExploreFrequency;"
   ]
  },
  {
   "cell_type": "code",
   "execution_count": null,
   "id": "cdf75d42",
   "metadata": {},
   "outputs": [],
   "source": [
    "DROP TABLE TwmExploreHistogram;"
   ]
  },
  {
   "cell_type": "code",
   "execution_count": null,
   "id": "d2230b82",
   "metadata": {},
   "outputs": [],
   "source": [
    "call TRNG_XSP.td_analyze('DataExplorer',\n",
    "                      'database=ADLSLSAMER_DS_GENERAL;\n",
    "                       tablename=TelcoCustomerChurn;\n",
    "                       outputdatabase=ADLSLSAMER_DS_GENERAL;');"
   ]
  },
  {
   "cell_type": "markdown",
   "id": "134b9a38",
   "metadata": {},
   "source": [
    "Ahora vamos a revisar los resultados de nuestro Análisis Exploratorio.  \n",
    "  \n",
    "#### 1. Exploratorio de Valores  \n",
    "  \n",
    "Nos muestra los descriptivos generales de las variables en la tabla:  \n",
    "* Tipo de variable\n",
    "* Cantidad de registros\n",
    "* Cantidad de nulos\n",
    "* etc."
   ]
  },
  {
   "cell_type": "code",
   "execution_count": null,
   "id": "baf9edc1",
   "metadata": {},
   "outputs": [],
   "source": [
    "SELECT * FROM TwmExploreValues ORDER BY xtype, xcol;"
   ]
  },
  {
   "cell_type": "markdown",
   "id": "6f97afba",
   "metadata": {},
   "source": [
    "#### 2. Descriptivo de variables numéricas  \n",
    "  \n",
    "Nos muestra los descriptivos básicos de las variables numéricas en nuestra tabla de datos.  \n",
    "* Mínimo\n",
    "* Máximo\n",
    "* Promedio\n",
    "* Desvío estándar"
   ]
  },
  {
   "cell_type": "code",
   "execution_count": null,
   "id": "0a037ad1",
   "metadata": {},
   "outputs": [],
   "source": [
    "SELECT * FROM TwmExploreStatistics ORDER BY xcol;"
   ]
  },
  {
   "cell_type": "markdown",
   "id": "761aa0d7",
   "metadata": {},
   "source": [
    "#### 3. Descriptivos de variables de texto  \n",
    "  \n",
    "Nos muestra los descriptivos básicos de las variables de texto en nuestra tabla de datos.  \n",
    "* Valores encontrados\n",
    "* Cantidad de registros para cada valor\n",
    "* Porcentaje de registros para cada valor"
   ]
  },
  {
   "cell_type": "code",
   "execution_count": null,
   "id": "f7d85aff",
   "metadata": {},
   "outputs": [],
   "source": [
    "SELECT * FROM TwmExploreFrequency ORDER BY xcol, xval;"
   ]
  },
  {
   "cell_type": "markdown",
   "id": "6cbac599",
   "metadata": {},
   "source": [
    "##### Ejemplo de un gráfico de sectores"
   ]
  },
  {
   "cell_type": "code",
   "execution_count": null,
   "id": "1a146c34",
   "metadata": {},
   "outputs": [],
   "source": [
    "SELECT xval as Codigo,xcnt as cantidad FROM TwmExploreFrequency WHERE xcol = 'gender';"
   ]
  },
  {
   "cell_type": "code",
   "execution_count": null,
   "id": "fd45fec6",
   "metadata": {},
   "outputs": [],
   "source": [
    "%chart Codigo, cantidad, title=Distribución de Codigo de Area, labelx=Metodo, labely=Count, width=800, height=450"
   ]
  },
  {
   "cell_type": "markdown",
   "id": "38146c3c",
   "metadata": {},
   "source": [
    "#### 4. Descriptivos de variables numéricas discretizadas (bins)  \n",
    "  \n",
    "Nos muestra los descriptivos resultantes de discretizar las variables numéricas de nuestra tabla de datos.\n",
    "* Número de segmento\n",
    "* Valor inicial del segmento\n",
    "* Valor final del segmento\n",
    "* Cantidad de casos dentro del segmento\n",
    "* Porcentaje que representan esos casos"
   ]
  },
  {
   "cell_type": "code",
   "execution_count": null,
   "id": "0ec2603e",
   "metadata": {},
   "outputs": [],
   "source": [
    "SELECT * FROM TwmExploreHistogram ORDER BY xcol, xbin;"
   ]
  },
  {
   "cell_type": "markdown",
   "id": "d86fcb81",
   "metadata": {},
   "source": [
    "##### Gráfico de bins"
   ]
  },
  {
   "cell_type": "code",
   "execution_count": null,
   "id": "b1e1f9a6",
   "metadata": {},
   "outputs": [],
   "source": [
    "SELECT xbin as bin,xcnt as cantidad FROM TwmExploreHistogram WHERE xcol = 'TotalCharges';"
   ]
  },
  {
   "cell_type": "code",
   "execution_count": null,
   "id": "ede97e8c",
   "metadata": {},
   "outputs": [],
   "source": [
    "%chart bin, cantidad, title=Distribución de Llamadas en el Día, labelx=Bins, labely=Count, width=800, height=450"
   ]
  },
  {
   "cell_type": "markdown",
   "id": "016cd925",
   "metadata": {},
   "source": [
    "## Transformación de datos  \n",
    " \n",
    "En general es necesario realizar transformaciones sobre los datos para adecuarlos al tipo de análisis que planificamos realizar. \n",
    "  \n",
    "La idea es crear un modelo de tipo __Regresión Logística__ que tiene exigencias específicas en cuanto al tipo de variables a utilizar\n",
    "  \n",
    "Por eso modificaremos las variables para que sean adecuadas para el modelo  \n",
    "  \n",
    "Para eso presentamos a modo de ejemplo dos tipos de transformaciones comunes:  \n",
    "  \n",
    "* Transformaciones de variables de cadena en un conjunto de marcas o flags 0-1  \n",
    "* Estandarización de las variables numéricas para que tengan promedio 0 y desvío estándar 1"
   ]
  },
  {
   "cell_type": "markdown",
   "id": "f2d336c1",
   "metadata": {},
   "source": [
    "### 1. Transformación de variables de cadena en marcas.  \n",
    "    \n",
    "Utilizaremos como ejemplo las siguientes variables de cadena:\n",
    "* gender,  \n",
    "* Partner,  \n",
    "* Dependents,  \n",
    "* PhoneService,  \n",
    "* MultipleLines,  \n",
    "* InternetService,  \n",
    "* OnlineSecurity,  \n",
    "* OnlineBackup,  \n",
    "* DeviceProtection,  \n",
    "* TechSupport,  \n",
    "* StreamingTV,  \n",
    "* StreamingMovies,  \n",
    "* Contract,  \n",
    "* PaperlessBilling,  \n",
    "* PaymentMethod,  \n",
    "* Churn  \n",
    "    \n",
    "Y para cada una de ellas vamos a utilizar la función _OneHotEncoder_ para generar el conjunto de marcas."
   ]
  },
  {
   "cell_type": "code",
   "execution_count": null,
   "id": "49598558",
   "metadata": {},
   "outputs": [],
   "source": [
    "DROP TABLE tch_varflags;"
   ]
  },
  {
   "cell_type": "code",
   "execution_count": null,
   "id": "5cca0896",
   "metadata": {},
   "outputs": [],
   "source": [
    "call TRNG_XSP.td_analyze('vartran',\n",
    "    'database=ADLSLSAMER_MS_AZ;\n",
    "    tablename=TelcoCustomerChurn;\n",
    "    outputstyle=table;\n",
    "    outputdatabase=ADLSLSAMER_MS_AZ;\n",
    "    outputtablename=tch_varflags;\n",
    "    keycolumns=customerid;\n",
    "    index=customerid;\n",
    "    designcode=\n",
    "    {designstyle(dummycode),designvalues(Female/FLAG_Gender),columns(Gender)}\n",
    "    {designstyle(dummycode),designvalues(Yes/FLAG_Partner),columns(Partner)}\n",
    "    {designstyle(dummycode),designvalues(Yes/FLAG_Dependents),columns(Dependents)}\n",
    "    {designstyle(dummycode),designvalues(Yes/FLAG_Phone),columns(PhoneService)}\n",
    "    {designstyle(dummycode),designvalues(Yes/FLAG_ml_yes,No phone service/FLAG_ml_nphs),columns(MultipleLines)}\n",
    "    {designstyle(dummycode),designvalues(Fiber Optic/FLAG_is_fibopt,DSL/FLAG_is_dsl),columns(InternetService)}\n",
    "    {designstyle(dummycode),designvalues(Yes/FLAG_os_yes,No/FLAG_os_no),columns(OnlineSecurity)}\n",
    "    {designstyle(dummycode),designvalues(Yes/FLAG_ob_yes,No/FLAG_ob_no),columns(OnlineBackup)}\n",
    "    {designstyle(dummycode),designvalues(Yes/FLAG_dp_yes,No/FLAG_dp_no),columns(DeviceProtection)}\n",
    "    {designstyle(dummycode),designvalues(Yes/FLAG_ts_yes,No/FLAG_ts_no),columns(TechSupport)}\n",
    "    {designstyle(dummycode),designvalues(Yes/FLAG_stv_yes,No/FLAG_stv_no),columns(StreamingTV)}\n",
    "    {designstyle(dummycode),designvalues(Yes/FLAG_stm_yes,No/FLAG_stm_no),columns(StreamingMovies)}\n",
    "    {designstyle(dummycode),designvalues(One Year/FLAG_ctr_oneyear,Two year/FLAG_ctr_twoyear),columns(Contract)}\n",
    "    {designstyle(dummycode),designvalues(Yes/FLAG_plbill),columns(PaperlessBilling)}\n",
    "    {designstyle(dummycode),designvalues(Mailed check/FLAG_pm_check,Electronic check/FLAG_pm_echeck),columns(PaymentMethod)}\n",
    "    {designstyle(dummycode),designvalues(Yes/FLAG_churn),columns(Churn)};');"
   ]
  },
  {
   "cell_type": "code",
   "execution_count": null,
   "id": "dad2e202",
   "metadata": {},
   "outputs": [],
   "source": [
    "SELECT TOP 10 * FROM tch_varflags"
   ]
  },
  {
   "cell_type": "markdown",
   "id": "5a946d95",
   "metadata": {},
   "source": [
    "### 2. Valor Z para variables numéricas.  \n",
    "    \n",
    "Utilizaremos como ejemplo las siguientes variables numéricas:\n",
    "* MonthlyCharges,  \n",
    "* TotalCharges,  \n",
    "* Tenure\n",
    "    \n",
    "Y para cada una de ellas vamos a utilizar la función _ZScore_ para generar la transformación.    "
   ]
  },
  {
   "cell_type": "code",
   "execution_count": null,
   "id": "6e0829fb",
   "metadata": {},
   "outputs": [],
   "source": [
    "DROP TABLE tch_zvar;"
   ]
  },
  {
   "cell_type": "code",
   "execution_count": null,
   "id": "7957a3d2",
   "metadata": {},
   "outputs": [],
   "source": [
    "call TRNG_XSP.td_analyze('vartran',\n",
    "    'database=ADLSLSAMER_MS_AZ;\n",
    "    tablename=TelcoCustomerChurn;\n",
    "    outputstyle=table;\n",
    "    outputdatabase=ADLSLSAMER_MS_AZ;\n",
    "    outputtablename=tch_zvar;\n",
    "    keycolumns=customerid;\n",
    "    index=customerid;\n",
    "    zscore=columns(MonthlyCharges/zMonthlyCharges,TotalCharges/zTotalCharges,Tenure/zTenure);\n",
    ";');"
   ]
  },
  {
   "cell_type": "code",
   "execution_count": null,
   "id": "36df0fd1",
   "metadata": {},
   "outputs": [],
   "source": [
    "SELECT TOP 10 * FROM tch_zvar;"
   ]
  },
  {
   "cell_type": "markdown",
   "id": "71092612",
   "metadata": {},
   "source": [
    "### 3. Unimos los datos transformados y generamos marcas para las muestras de Entrenamiento, Validación y Scoring  \n",
    "   \n",
    "Sobre nuestro __Dataset final__ generaremos una marca al azar __para crear y evaluar__ el modelo y reservaremos una muestra para __aplicar__ posteriormente el modelo en producción  "
   ]
  },
  {
   "cell_type": "code",
   "execution_count": null,
   "id": "2b5aab65",
   "metadata": {},
   "outputs": [],
   "source": [
    "DROP TABLE TelcoCustomerChurn_dataset_sql;  "
   ]
  },
  {
   "cell_type": "code",
   "execution_count": null,
   "id": "0605a4bc",
   "metadata": {},
   "outputs": [],
   "source": [
    "CREATE TABLE TelcoCustomerChurn_dataset_sql AS\n",
    "(\n",
    "SELECT a.customerid,a.FLAG_churn,a.FLAG_Gender,a.FLAG_Partner,a.FLAG_Dependents,a.FLAG_Phone,a.FLAG_ml_yes,\n",
    "    a.FLAG_ml_nphs,a.FLAG_is_fibopt,a.FLAG_is_dsl,a.FLAG_os_yes,a.FLAG_os_no,a.FLAG_ob_yes,a.FLAG_ob_no,\n",
    "    a.FLAG_dp_yes,a.FLAG_dp_no,a.FLAG_ts_yes,a.FLAG_ts_no,a.FLAG_stv_yes,a.FLAG_stv_no,a.FLAG_stm_yes,\n",
    "    a.FLAG_stm_no,a.FLAG_ctr_oneyear,a.FLAG_ctr_twoyear,a.FLAG_plbill,a.FLAG_pm_check,\n",
    "    a.FLAG_pm_echeck,b.zMonthlyCharges,b.zTotalCharges,b.zTenure,\n",
    "        SAMPLEID as sid\n",
    "FROM tch_varflags a\n",
    "LEFT JOIN tch_zvar b\n",
    "ON a.customerid=b.customerid\n",
    "SAMPLE RANDOMIZED ALLOCATION 0.3, 0.3, 0.4\n",
    ") WITH DATA\n",
    "PRIMARY INDEX (customerid);"
   ]
  },
  {
   "cell_type": "code",
   "execution_count": null,
   "id": "b57fc0c6",
   "metadata": {},
   "outputs": [],
   "source": [
    "SELECT TOP 10 * FROM TelcoCustomerChurn_dataset_sql;"
   ]
  },
  {
   "cell_type": "markdown",
   "id": "8f8408f6",
   "metadata": {},
   "source": [
    "### 4. Separación de las muestras de entrenamiento, validación y scoring"
   ]
  },
  {
   "cell_type": "code",
   "execution_count": null,
   "id": "65203a69",
   "metadata": {},
   "outputs": [],
   "source": [
    "DROP TABLE tch_train;"
   ]
  },
  {
   "cell_type": "code",
   "execution_count": null,
   "id": "3d5bf3db",
   "metadata": {},
   "outputs": [],
   "source": [
    "CREATE MULTISET TABLE tch_train AS (\n",
    "SELECT * FROM TelcoCustomerChurn_dataset_sql WHERE SID = 1\n",
    ") WITH DATA\n",
    "PRIMARY INDEX (customerid);"
   ]
  },
  {
   "cell_type": "code",
   "execution_count": null,
   "id": "fba7c23b",
   "metadata": {},
   "outputs": [],
   "source": [
    "DROP TABLE tch_test;"
   ]
  },
  {
   "cell_type": "code",
   "execution_count": null,
   "id": "9e77a7ba",
   "metadata": {},
   "outputs": [],
   "source": [
    "CREATE MULTISET TABLE tch_test AS (\n",
    "SELECT * FROM TelcoCustomerChurn_dataset_sql WHERE SID = 2\n",
    ") WITH DATA\n",
    "PRIMARY INDEX (customerid);"
   ]
  },
  {
   "cell_type": "code",
   "execution_count": null,
   "id": "fbaa1ed1",
   "metadata": {},
   "outputs": [],
   "source": [
    "DROP TABLE tch_scoring;"
   ]
  },
  {
   "cell_type": "code",
   "execution_count": null,
   "id": "a160efd4",
   "metadata": {},
   "outputs": [],
   "source": [
    "CREATE MULTISET TABLE tch_scoring AS (\n",
    "SELECT * FROM TelcoCustomerChurn_dataset_sql WHERE SID = 3\n",
    ") WITH DATA\n",
    "PRIMARY INDEX (customerid);"
   ]
  },
  {
   "cell_type": "markdown",
   "id": "07c4906b",
   "metadata": {},
   "source": [
    "## Creación y Validación de un modelo de Regresión Logística\n",
    "  \n",
    "El algoritmo de Regresión Logística contiene distintos parámetros para su ejecución.  \n",
    "Aquí vamos a mostrar una de las configuraciones posibles, puede encontrar más información [Teradata Documentation/Vantage Analytics Library User Guide/Logistic Regression](https://docs.teradata.com/r/DqJoLxuCtoR947URt1aH0w/a9t1K0AD6cMnV1zPRgflVg).  \n",
    "\n",
    "Primero eliminamos las tablas que contienen el resultado de la regresión logística para poder recrearlas."
   ]
  },
  {
   "cell_type": "code",
   "execution_count": null,
   "id": "2d055c60",
   "metadata": {},
   "outputs": [],
   "source": [
    "DROP TABLE tch_logmodel;"
   ]
  },
  {
   "cell_type": "code",
   "execution_count": null,
   "id": "eb3006fb",
   "metadata": {},
   "outputs": [],
   "source": [
    "DROP TABLE tch_logmodel_rpt;"
   ]
  },
  {
   "cell_type": "code",
   "execution_count": null,
   "id": "df5f2f64",
   "metadata": {},
   "outputs": [],
   "source": [
    "DROP TABLE tch_logmodel_txt;"
   ]
  },
  {
   "cell_type": "markdown",
   "id": "35fee03c",
   "metadata": {},
   "source": [
    "Ahora crearemos el modelo"
   ]
  },
  {
   "cell_type": "code",
   "execution_count": null,
   "id": "90fe60ed",
   "metadata": {},
   "outputs": [],
   "source": [
    "call TRNG_XSP.td_analyze('logistic','\n",
    "database=ADLSLSAMER_MS_AZ;\n",
    "tablename=tch_train;\n",
    "columns= all;\n",
    "columnstoexclude=customerid,sid;\n",
    "dependent=FLAG_Churn;\n",
    "response=1;\n",
    "stepwise=true;\n",
    "statstable=true;\n",
    "successtable=true;\n",
    "thresholdtable=true;\n",
    "lifttable=true;\n",
    "outputdatabase=ADLSLSAMER_MS_AZ;\n",
    "outputtablename=tch_logmodel;');"
   ]
  },
  {
   "cell_type": "markdown",
   "id": "e401c648",
   "metadata": {},
   "source": [
    "#### Revisamos el Modelo"
   ]
  },
  {
   "cell_type": "code",
   "execution_count": null,
   "id": "e1e12018",
   "metadata": {},
   "outputs": [],
   "source": [
    "SELECT * FROM tch_logmodel;"
   ]
  },
  {
   "cell_type": "code",
   "execution_count": null,
   "id": "7aad2d0e",
   "metadata": {},
   "outputs": [],
   "source": [
    "SELECT * FROM tch_logmodel_rpt;"
   ]
  },
  {
   "cell_type": "code",
   "execution_count": null,
   "id": "57ff4179",
   "metadata": {},
   "outputs": [],
   "source": [
    "SELECT * FROM tch_logmodel_txt;"
   ]
  },
  {
   "cell_type": "markdown",
   "id": "73502326",
   "metadata": {},
   "source": [
    "***\n",
    "    \n",
    "### Evaluamos el modelo de Regresión Logística."
   ]
  },
  {
   "cell_type": "code",
   "execution_count": null,
   "id": "1c62bed5",
   "metadata": {},
   "outputs": [],
   "source": [
    "DROP TABLE tch_logmodelval;"
   ]
  },
  {
   "cell_type": "code",
   "execution_count": null,
   "id": "3042957d",
   "metadata": {},
   "outputs": [],
   "source": [
    "DROP TABLE tch_logmodelval_txt;"
   ]
  },
  {
   "cell_type": "code",
   "execution_count": null,
   "id": "cf7e2164",
   "metadata": {},
   "outputs": [],
   "source": [
    "call\n",
    "TRNG_XSP.td_analyze('logisticscore','\n",
    "database=ADLSLSAMER_MS_AZ;\n",
    "tablename=tch_test;\n",
    "modeldatabase=ADLSLSAMER_MS_AZ;\n",
    "modeltablename=tch_logmodel;\n",
    "outputdatabase=ADLSLSAMER_MS_AZ;\n",
    "outputtablename=tch_logmodelval;\n",
    "estimate=Estimate;\n",
    "probability=Probability;\n",
    "retain=FLAG_churn;\n",
    "samplescoresize=10;\n",
    "scoringmethod=scoreandevaluate;\n",
    "lifttable=true;');"
   ]
  },
  {
   "cell_type": "code",
   "execution_count": null,
   "id": "90f2d085",
   "metadata": {},
   "outputs": [],
   "source": [
    "SELECT FLAG_churn, Estimate, COUNT(1) AS n FROM tch_logmodelval GROUP BY 1,2;"
   ]
  },
  {
   "cell_type": "markdown",
   "id": "e1f6a8f9",
   "metadata": {},
   "source": [
    "*** \n",
    "    \n",
    "### Aplicamos el modelo de Regresión Logística a un nuevo Dataset."
   ]
  },
  {
   "cell_type": "code",
   "execution_count": null,
   "id": "8a4c598c",
   "metadata": {},
   "outputs": [],
   "source": [
    "DROP TABLE tch_score;"
   ]
  },
  {
   "cell_type": "code",
   "execution_count": null,
   "id": "4f6e331f",
   "metadata": {},
   "outputs": [],
   "source": [
    "call\n",
    "TRNG_XSP.td_analyze('logisticscore','\n",
    "database=ADLSLSAMER_MS_AZ;\n",
    "tablename=tch_scoring;\n",
    "modeldatabase=ADLSLSAMER_MS_AZ;\n",
    "modeltablename=tch_logmodel;\n",
    "outputdatabase=ADLSLSAMER_MS_AZ;\n",
    "outputtablename=tch_score;\n",
    "probability=Probability;\n",
    "scoringmethod=score;');"
   ]
  },
  {
   "cell_type": "code",
   "execution_count": null,
   "id": "7b26de7d",
   "metadata": {},
   "outputs": [],
   "source": [
    "SELECT TOP 10 * FROM tch_score;"
   ]
  },
  {
   "cell_type": "code",
   "execution_count": null,
   "id": "6c2f3a3b",
   "metadata": {},
   "outputs": [],
   "source": [
    "%disconnect Transcend-Production"
   ]
  },
  {
   "cell_type": "markdown",
   "id": "7a83d139",
   "metadata": {},
   "source": [
    "©2022 Teradata. All Rights Reserved."
   ]
  }
 ],
 "metadata": {
  "kernelspec": {
   "display_name": "Teradata SQL",
   "language": "Teradata SQL",
   "name": "teradatasql"
  },
  "language_info": {
   "codemirror_mode": "Teradata SQL",
   "file_extension": ".tdrs",
   "mimetype": "application/vnd.teradata.resultset",
   "name": "Teradata SQL",
   "nbconvert_exporter": "",
   "pygments_lexer": "",
   "version": "16.20"
  }
 },
 "nbformat": 4,
 "nbformat_minor": 5
}
