{
 "cells": [
  {
   "cell_type": "markdown",
   "id": "4aa18f93",
   "metadata": {
    "tags": []
   },
   "source": [
    "### Teradata Vantage Analytics Workshop Basic\n",
    "Bring Your Own Model -- XGBoost"
   ]
  },
  {
   "cell_type": "code",
   "execution_count": null,
   "id": "810b3ee0",
   "metadata": {},
   "outputs": [],
   "source": [
    "from sklearn import datasets\n",
    "import pandas as pd\n",
    "from sklearn2pmml.pipeline import PMMLPipeline\n",
    "from sklearn2pmml import sklearn2pmml\n",
    "from sklearn import svm\n",
    "from xgboost import XGBClassifier\n",
    "import os\n",
    "import time\n",
    "from teradataml import *\n",
    "import getpass as gp"
   ]
  },
  {
   "cell_type": "markdown",
   "id": "57eea45d",
   "metadata": {},
   "source": [
    "### Connect to Database"
   ]
  },
  {
   "cell_type": "code",
   "execution_count": null,
   "id": "5ccdd6c9",
   "metadata": {},
   "outputs": [],
   "source": [
    "td_context = create_context(host=\"tdprd.td.teradata.com\", username=\"lc250058\", password=gp.getpass(prompt='Password:'), logmech=\"LDAP\")"
   ]
  },
  {
   "cell_type": "markdown",
   "id": "987c24b2-1202-42ef-a1fe-6f013aa18605",
   "metadata": {},
   "source": [
    "Creating a TeradataML DataFrame "
   ]
  },
  {
   "cell_type": "code",
   "execution_count": null,
   "id": "707438ab",
   "metadata": {},
   "outputs": [],
   "source": [
    "train_df = DataFrame.from_query(\"select * FROM TRNG_TDU_TD01.bust_out_int\")\n",
    "train_df.shape"
   ]
  },
  {
   "cell_type": "code",
   "execution_count": null,
   "id": "de0eea45-270c-415a-9898-a08170f79cb5",
   "metadata": {},
   "outputs": [],
   "source": [
    "train_df.head(10)"
   ]
  },
  {
   "cell_type": "code",
   "execution_count": null,
   "id": "bd6d7f6a-4493-49af-9f21-ec59229d8c9d",
   "metadata": {},
   "outputs": [],
   "source": [
    "type(train_df)"
   ]
  },
  {
   "cell_type": "markdown",
   "id": "ef32bfe5-eba4-45c7-ada7-4b8ae8e39bc3",
   "metadata": {},
   "source": [
    "Moving the table to local Python"
   ]
  },
  {
   "cell_type": "code",
   "execution_count": null,
   "id": "32d6f54d-5b9c-46dc-9e99-003f88923879",
   "metadata": {},
   "outputs": [],
   "source": [
    "traid_pd = train_df.to_pandas()\n",
    "traid_pd.head(10)"
   ]
  },
  {
   "cell_type": "code",
   "execution_count": null,
   "id": "ce6e09c1",
   "metadata": {},
   "outputs": [],
   "source": [
    "type(traid_pd)"
   ]
  },
  {
   "cell_type": "code",
   "execution_count": null,
   "id": "2482cb81-e5a9-41da-853e-08a97d204a62",
   "metadata": {},
   "outputs": [],
   "source": [
    "traid_pd.dtypes"
   ]
  },
  {
   "cell_type": "code",
   "execution_count": null,
   "id": "b9303db0",
   "metadata": {},
   "outputs": [],
   "source": [
    "X = traid_pd[['days_since_lst_pymnt','num_pymnt_lst_60_days', 'num_pur_lst_60_days' ]]\n",
    "y=traid_pd[['bustout1']]\n",
    "X.head(10)"
   ]
  },
  {
   "cell_type": "markdown",
   "id": "6e392326",
   "metadata": {},
   "source": [
    "### Model Training\n",
    "This step can run several minutes and will have warnings"
   ]
  },
  {
   "cell_type": "code",
   "execution_count": null,
   "id": "f5492b99",
   "metadata": {
    "tags": []
   },
   "outputs": [],
   "source": [
    "#pipeline\n",
    "pipeline = PMMLPipeline([(\"classifier\", XGBClassifier())])\n",
    "pipeline.fit(X, y.values.ravel())\n",
    "sklearn2pmml(pipeline, \"bustout_xgb_model.pmml\", with_repr = True)"
   ]
  },
  {
   "cell_type": "markdown",
   "id": "b58b4afe",
   "metadata": {},
   "source": [
    "Create a table in your database to hold your models."
   ]
  },
  {
   "cell_type": "code",
   "execution_count": null,
   "id": "fef89db4",
   "metadata": {},
   "outputs": [],
   "source": [
    "td_context.execute(\"DROP TABLE pmml_models;\")"
   ]
  },
  {
   "cell_type": "code",
   "execution_count": null,
   "id": "f61c3e94-3458-44a9-a6a1-7b86695f73f1",
   "metadata": {},
   "outputs": [],
   "source": [
    "td_context.execute(\"CREATE SET TABLE pmml_models \\\n",
    "     (model_id VARCHAR(40) CHARACTER SET LATIN NOT CASESPECIFIC, \\\n",
    "      model BLOB(2097088000)) \\\n",
    "PRIMARY INDEX ( model_id );\")"
   ]
  },
  {
   "cell_type": "code",
   "execution_count": null,
   "id": "1ff50f16",
   "metadata": {},
   "outputs": [],
   "source": [
    "model_bytes = open(\"bustout_xgb_model.pmml\", \"rb\").read()\n",
    "td_context.execute(\"insert into pmml_models  (model_id, model) values(?,?)\", 'bustout_xgb_model', model_bytes)"
   ]
  },
  {
   "cell_type": "code",
   "execution_count": null,
   "id": "30c3bc58",
   "metadata": {},
   "outputs": [],
   "source": [
    "model_list = pd.read_sql(\"select * from pmml_models\", td_context)"
   ]
  },
  {
   "cell_type": "code",
   "execution_count": null,
   "id": "f1d385ad",
   "metadata": {
    "tags": []
   },
   "outputs": [],
   "source": [
    "model_list"
   ]
  },
  {
   "cell_type": "markdown",
   "id": "9178a068-bfad-4052-acb9-8c6a3891d0a5",
   "metadata": {},
   "source": [
    "### Scoring Phase\n",
    "Choosing a differente dataset to score"
   ]
  },
  {
   "cell_type": "code",
   "execution_count": null,
   "id": "9207afb8",
   "metadata": {},
   "outputs": [],
   "source": [
    "bustout_test = DataFrame.from_query(\"SELECT * FROM TRNG_TDU_TD01.bustout_test;\")\n",
    "bustout_test.head(10)"
   ]
  },
  {
   "cell_type": "code",
   "execution_count": null,
   "id": "d9817460",
   "metadata": {},
   "outputs": [],
   "source": [
    "td_context.execute(\"DROP TABLE bustout_xgb_out;\")"
   ]
  },
  {
   "cell_type": "code",
   "execution_count": null,
   "id": "2a44cf4a",
   "metadata": {},
   "outputs": [],
   "source": [
    "td_context.execute(\"CREATE TABLE bustout_xgb_out AS ( \\\n",
    "SELECT * FROM TRNG_BYOM.PMMLPredict( \\\n",
    "    ON (SELECT top 10000 * FROM TRNG_TDU_TD01.bustout_test) \\\n",
    "    ON (select * from pmml_models where model_id='bustout_xgb_model') DIMENSION \\\n",
    "    USING \\\n",
    "        Accumulate('acct_no') \\\n",
    "        ModelOutputFields ('probability(0)', 'probability(1)') \\\n",
    ") AS dt \\\n",
    ") WITH DATA;\")"
   ]
  },
  {
   "cell_type": "code",
   "execution_count": null,
   "id": "cad961cb",
   "metadata": {
    "tags": []
   },
   "outputs": [],
   "source": [
    "pd.set_option('display.max_colwidth', 80)\n",
    "bustout_df = DataFrame.from_query(\"select * FROM bustout_xgb_out\")\n",
    "bustout_df.head(10)"
   ]
  },
  {
   "cell_type": "markdown",
   "id": "12de5336",
   "metadata": {},
   "source": [
    "**Update the table's prediction column with the probabiliy column's value.**"
   ]
  },
  {
   "cell_type": "code",
   "execution_count": null,
   "id": "e2865d91",
   "metadata": {},
   "outputs": [],
   "source": [
    "td_context.execute('UPDATE bustout_xgb_out SET prediction=0 WHERE \"probability(0)\" GT \"probability(1)\";')"
   ]
  },
  {
   "cell_type": "code",
   "execution_count": null,
   "id": "8b1b1fe2",
   "metadata": {},
   "outputs": [],
   "source": [
    "td_context.execute('UPDATE bustout_xgb_out SET prediction=1 WHERE \"probability(1)\" GT \"probability(0)\";')"
   ]
  },
  {
   "cell_type": "code",
   "execution_count": null,
   "id": "f3c072bb",
   "metadata": {},
   "outputs": [],
   "source": [
    "pd.set_option('display.max_colwidth', 80)\n",
    "bustout_df = DataFrame.from_query(\"select * FROM bustout_xgb_out\")\n",
    "bustout_df.head(10)"
   ]
  },
  {
   "cell_type": "code",
   "execution_count": null,
   "id": "fb73729a",
   "metadata": {},
   "outputs": [],
   "source": [
    "td_context.execute(\"DROP TABLE bustout_xgb_accuracy;\")"
   ]
  },
  {
   "cell_type": "code",
   "execution_count": null,
   "id": "d0381345",
   "metadata": {},
   "outputs": [],
   "source": [
    "td_context.execute(\"CREATE MULTISET TABLE bustout_xgb_accuracy AS \\\n",
    "(SELECT t.acct_no, t.bustout, p.prediction FROM bustout_xgb_out p, TRNG_TDU_TD01.bustout_test t \\\n",
    " WHERE t.acct_no = p.acct_no \\\n",
    ") WITH DATA;\")"
   ]
  },
  {
   "cell_type": "code",
   "execution_count": null,
   "id": "9bcb87f7",
   "metadata": {},
   "outputs": [],
   "source": [
    "pd.set_option('display.max_colwidth', 80)\n",
    "bustout_ac = DataFrame.from_query(\"select * FROM bustout_xgb_accuracy\")\n",
    "bustout_ac.head(10)"
   ]
  },
  {
   "cell_type": "code",
   "execution_count": null,
   "id": "f507bf57",
   "metadata": {},
   "outputs": [],
   "source": [
    "td_context.execute(\"ALTER table bustout_xgb_accuracy ADD bustout1 int;\")"
   ]
  },
  {
   "cell_type": "code",
   "execution_count": null,
   "id": "55464c5c",
   "metadata": {},
   "outputs": [],
   "source": [
    "td_context.execute(\"UPDATE bustout_xgb_accuracy SET bustout1=1 WHERE bustout = 'Y';\")"
   ]
  },
  {
   "cell_type": "code",
   "execution_count": null,
   "id": "bbb68dd4",
   "metadata": {},
   "outputs": [],
   "source": [
    "td_context.execute(\"UPDATE bustout_xgb_accuracy SET bustout1=0 WHERE bustout = 'N';\")"
   ]
  },
  {
   "cell_type": "code",
   "execution_count": null,
   "id": "78b56997",
   "metadata": {},
   "outputs": [],
   "source": [
    "pd.set_option('display.max_colwidth', 80)\n",
    "bustout_ac = DataFrame.from_query(\"select * FROM bustout_xgb_accuracy\")\n",
    "bustout_ac.head(10)"
   ]
  },
  {
   "cell_type": "markdown",
   "id": "618e2960-8c0e-45f9-a9af-9cefd97a2c39",
   "metadata": {},
   "source": [
    "**Model Accuracy**"
   ]
  },
  {
   "cell_type": "code",
   "execution_count": null,
   "id": "b8d5be02",
   "metadata": {},
   "outputs": [],
   "source": [
    "bustout_accr = DataFrame.from_query(\"SELECT (SELECT count(acct_no)*1.00 FROM bustout_xgb_accuracy \\\n",
    "WHERE bustout1 = prediction) / (SELECT count(acct_no) \\\n",
    "FROM bustout_xgb_accuracy) AS PA;\")\n",
    "bustout_accr"
   ]
  },
  {
   "cell_type": "code",
   "execution_count": null,
   "id": "7d6bfde8",
   "metadata": {
    "tags": []
   },
   "outputs": [],
   "source": [
    "# Remove context\n",
    "remove_context()"
   ]
  },
  {
   "cell_type": "markdown",
   "id": "f60c0283-3cc1-4a2a-885f-51cd3dfde069",
   "metadata": {},
   "source": [
    "Copyright 2022 Teradata. All rights reserved."
   ]
  }
 ],
 "metadata": {
  "kernelspec": {
   "display_name": "Python 3 (ipykernel)",
   "language": "python",
   "name": "python3"
  },
  "language_info": {
   "codemirror_mode": {
    "name": "ipython",
    "version": 3
   },
   "file_extension": ".py",
   "mimetype": "text/x-python",
   "name": "python",
   "nbconvert_exporter": "python",
   "pygments_lexer": "ipython3",
   "version": "3.9.7"
  }
 },
 "nbformat": 4,
 "nbformat_minor": 5
}
